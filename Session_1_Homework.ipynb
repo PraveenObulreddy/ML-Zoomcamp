{
  "nbformat": 4,
  "nbformat_minor": 0,
  "metadata": {
    "colab": {
      "provenance": []
    },
    "kernelspec": {
      "name": "python3",
      "display_name": "Python 3"
    },
    "language_info": {
      "name": "python"
    }
  },
  "cells": [
    {
      "cell_type": "markdown",
      "source": [
        "# Importing libraries"
      ],
      "metadata": {
        "id": "G4akyscdcj2j"
      }
    },
    {
      "cell_type": "code",
      "source": [
        "import numpy as np\n",
        "import pandas as pd\n",
        "import matplotlib.pyplot as plt\n",
        "import seaborn as sns"
      ],
      "metadata": {
        "id": "ce_EUmjzFyWx"
      },
      "execution_count": 2,
      "outputs": []
    },
    {
      "cell_type": "markdown",
      "source": [
        "#1 What's the version of NumPy that you installed?"
      ],
      "metadata": {
        "id": "OUIrujaSHNis"
      }
    },
    {
      "cell_type": "code",
      "source": [
        "np.__version__"
      ],
      "metadata": {
        "colab": {
          "base_uri": "https://localhost:8080/",
          "height": 35
        },
        "id": "LtjNWcCXGAEN",
        "outputId": "303f386c-5058-4502-8e28-ea6d7f676278"
      },
      "execution_count": 3,
      "outputs": [
        {
          "output_type": "execute_result",
          "data": {
            "text/plain": [
              "'1.21.6'"
            ],
            "application/vnd.google.colaboratory.intrinsic+json": {
              "type": "string"
            }
          },
          "metadata": {},
          "execution_count": 3
        }
      ]
    },
    {
      "cell_type": "markdown",
      "source": [
        "# Getting the data"
      ],
      "metadata": {
        "id": "QIfG0wTuHPgf"
      }
    },
    {
      "cell_type": "code",
      "source": [
        "df = pd.read_csv(\"https://raw.githubusercontent.com/alexeygrigorev/mlbookcamp-code/master/chapter-02-car-price/data.csv\")"
      ],
      "metadata": {
        "id": "szBn5Y_DGGGE"
      },
      "execution_count": 54,
      "outputs": []
    },
    {
      "cell_type": "markdown",
      "source": [
        "#2 How many records are in the dataset?"
      ],
      "metadata": {
        "id": "_esM5QTkHDP4"
      }
    },
    {
      "cell_type": "code",
      "source": [
        "df.shape[0]"
      ],
      "metadata": {
        "colab": {
          "base_uri": "https://localhost:8080/"
        },
        "id": "VJ4za7w7G2NE",
        "outputId": "4caa3fe8-b79b-43f4-bec1-cbc1b7e8bfcf"
      },
      "execution_count": 55,
      "outputs": [
        {
          "output_type": "execute_result",
          "data": {
            "text/plain": [
              "11914"
            ]
          },
          "metadata": {},
          "execution_count": 55
        }
      ]
    },
    {
      "cell_type": "markdown",
      "source": [
        "#3 Who are the most frequent car manufacturers (top-3) according to the dataset?"
      ],
      "metadata": {
        "id": "ACWSBwj0HYKt"
      }
    },
    {
      "cell_type": "code",
      "source": [
        "df['Make'].value_counts().head(3)"
      ],
      "metadata": {
        "colab": {
          "base_uri": "https://localhost:8080/"
        },
        "id": "Cb_thJ2xG9lR",
        "outputId": "b2d44487-5d60-4d04-ce8a-6a8084ecc2b3"
      },
      "execution_count": 18,
      "outputs": [
        {
          "output_type": "execute_result",
          "data": {
            "text/plain": [
              "Chevrolet     1123\n",
              "Ford           881\n",
              "Volkswagen     809\n",
              "Name: Make, dtype: int64"
            ]
          },
          "metadata": {},
          "execution_count": 18
        }
      ]
    },
    {
      "cell_type": "markdown",
      "source": [
        "#4 What's the number of unique Audi car models in the dataset?"
      ],
      "metadata": {
        "id": "XD3jk9L_InAM"
      }
    },
    {
      "cell_type": "code",
      "source": [
        "df[df['Make'] == 'Audi']['Model'].nunique()"
      ],
      "metadata": {
        "colab": {
          "base_uri": "https://localhost:8080/"
        },
        "id": "5osYn5GhHs06",
        "outputId": "bf8be83a-ccba-409d-da97-52139877faae"
      },
      "execution_count": 26,
      "outputs": [
        {
          "output_type": "execute_result",
          "data": {
            "text/plain": [
              "34"
            ]
          },
          "metadata": {},
          "execution_count": 26
        }
      ]
    },
    {
      "cell_type": "markdown",
      "source": [
        "#5 How many columns in the dataset have missing values?"
      ],
      "metadata": {
        "id": "BFhmtMCEJuKT"
      }
    },
    {
      "cell_type": "code",
      "source": [
        "df.isnull().sum()"
      ],
      "metadata": {
        "colab": {
          "base_uri": "https://localhost:8080/"
        },
        "id": "AIYF9XgeI2vj",
        "outputId": "77bedb4f-90f4-4319-e674-95a10ef7e5b0"
      },
      "execution_count": 31,
      "outputs": [
        {
          "output_type": "execute_result",
          "data": {
            "text/plain": [
              "Make                    0\n",
              "Model                   0\n",
              "Year                    0\n",
              "Engine Fuel Type        3\n",
              "Engine HP              69\n",
              "Engine Cylinders       30\n",
              "Transmission Type       0\n",
              "Driven_Wheels           0\n",
              "Number of Doors         6\n",
              "Market Category      3742\n",
              "Vehicle Size            0\n",
              "Vehicle Style           0\n",
              "highway MPG             0\n",
              "city mpg                0\n",
              "Popularity              0\n",
              "MSRP                    0\n",
              "dtype: int64"
            ]
          },
          "metadata": {},
          "execution_count": 31
        }
      ]
    },
    {
      "cell_type": "markdown",
      "source": [
        "5 columns have null values"
      ],
      "metadata": {
        "id": "jTLqBx0yKa4U"
      }
    },
    {
      "cell_type": "markdown",
      "source": [
        "##6.1 Find the median value of \"Engine Cylinders\" column in the dataset."
      ],
      "metadata": {
        "id": "X_nzLlspKexb"
      }
    },
    {
      "cell_type": "code",
      "source": [
        "df['Engine Cylinders'].median()"
      ],
      "metadata": {
        "colab": {
          "base_uri": "https://localhost:8080/"
        },
        "id": "052DHSmGJ0EM",
        "outputId": "6e573588-ade9-456d-9bfe-f0f78c94ec65"
      },
      "execution_count": 33,
      "outputs": [
        {
          "output_type": "execute_result",
          "data": {
            "text/plain": [
              "6.0"
            ]
          },
          "metadata": {},
          "execution_count": 33
        }
      ]
    },
    {
      "cell_type": "markdown",
      "source": [
        "##6.2 Next, calculate the most frequent value of the same \"Engine Cylinders\"."
      ],
      "metadata": {
        "id": "HUJiYlD0Xyc-"
      }
    },
    {
      "cell_type": "code",
      "source": [
        "df['Engine Cylinders'].mode()"
      ],
      "metadata": {
        "colab": {
          "base_uri": "https://localhost:8080/"
        },
        "id": "YXGIRtNRKqZz",
        "outputId": "85ba31a6-a8e1-4807-d08a-82fd78f845f2"
      },
      "execution_count": 34,
      "outputs": [
        {
          "output_type": "execute_result",
          "data": {
            "text/plain": [
              "0    4.0\n",
              "dtype: float64"
            ]
          },
          "metadata": {},
          "execution_count": 34
        }
      ]
    },
    {
      "cell_type": "markdown",
      "source": [
        "##6.3 Use the fillna method to fill the missing values in \"Engine Cylinders\" with the most frequent value from the previous step."
      ],
      "metadata": {
        "id": "yIPmNDigX9aP"
      }
    },
    {
      "cell_type": "code",
      "source": [
        "df['Engine Cylinders'].fillna(df['Engine Cylinders'].mode())"
      ],
      "metadata": {
        "colab": {
          "base_uri": "https://localhost:8080/"
        },
        "id": "JOXNkvUJX4Bz",
        "outputId": "f7421f57-5122-4cc0-8a7d-c38439e59e14"
      },
      "execution_count": 35,
      "outputs": [
        {
          "output_type": "execute_result",
          "data": {
            "text/plain": [
              "0        6.0\n",
              "1        6.0\n",
              "2        6.0\n",
              "3        6.0\n",
              "4        6.0\n",
              "        ... \n",
              "11909    6.0\n",
              "11910    6.0\n",
              "11911    6.0\n",
              "11912    6.0\n",
              "11913    6.0\n",
              "Name: Engine Cylinders, Length: 11914, dtype: float64"
            ]
          },
          "metadata": {},
          "execution_count": 35
        }
      ]
    },
    {
      "cell_type": "markdown",
      "source": [
        "##6.4 Now, calculate the median value of \"Engine Cylinders\" once again"
      ],
      "metadata": {
        "id": "XJqT51HxYUyF"
      }
    },
    {
      "cell_type": "code",
      "source": [
        "df['Engine Cylinders'].fillna(df['Engine Cylinders'].mode()).median()"
      ],
      "metadata": {
        "colab": {
          "base_uri": "https://localhost:8080/"
        },
        "id": "kuCHi834YQ4q",
        "outputId": "50bd41a6-58ef-42a4-c80a-48be9f886db4"
      },
      "execution_count": 36,
      "outputs": [
        {
          "output_type": "execute_result",
          "data": {
            "text/plain": [
              "6.0"
            ]
          },
          "metadata": {},
          "execution_count": 36
        }
      ]
    },
    {
      "cell_type": "markdown",
      "source": [
        "No. It remained the same."
      ],
      "metadata": {
        "id": "LuRmIV4_YbUN"
      }
    },
    {
      "cell_type": "markdown",
      "source": [
        "##7.1 Select all the \"Lotus\" cars from the dataset."
      ],
      "metadata": {
        "id": "mZnYMEwSYfgK"
      }
    },
    {
      "cell_type": "code",
      "source": [
        "lotus = df[df['Make'] == 'Lotus']\n",
        "lotus"
      ],
      "metadata": {
        "colab": {
          "base_uri": "https://localhost:8080/",
          "height": 1000
        },
        "id": "ngGg3Rx1YYoF",
        "outputId": "682ccf31-457b-46cd-ad4c-19ef8ce1f3ce"
      },
      "execution_count": 38,
      "outputs": [
        {
          "output_type": "execute_result",
          "data": {
            "text/plain": [
              "       Make      Model  Year                Engine Fuel Type  Engine HP  \\\n",
              "3912  Lotus      Elise  2009     premium unleaded (required)      189.0   \n",
              "3913  Lotus      Elise  2009     premium unleaded (required)      218.0   \n",
              "3914  Lotus      Elise  2009     premium unleaded (required)      189.0   \n",
              "3915  Lotus      Elise  2010     premium unleaded (required)      189.0   \n",
              "3916  Lotus      Elise  2010     premium unleaded (required)      218.0   \n",
              "3917  Lotus      Elise  2011     premium unleaded (required)      189.0   \n",
              "3918  Lotus      Elise  2011     premium unleaded (required)      217.0   \n",
              "3919  Lotus      Elise  2011     premium unleaded (required)      217.0   \n",
              "4216  Lotus     Esprit  2002     premium unleaded (required)      350.0   \n",
              "4217  Lotus     Esprit  2003     premium unleaded (required)      350.0   \n",
              "4218  Lotus     Esprit  2004     premium unleaded (required)      350.0   \n",
              "4257  Lotus  Evora 400  2017     premium unleaded (required)      400.0   \n",
              "4258  Lotus  Evora 400  2017     premium unleaded (required)      400.0   \n",
              "4259  Lotus      Evora  2011     premium unleaded (required)      276.0   \n",
              "4260  Lotus      Evora  2011     premium unleaded (required)      276.0   \n",
              "4261  Lotus      Evora  2013     premium unleaded (required)      276.0   \n",
              "4262  Lotus      Evora  2013     premium unleaded (required)      345.0   \n",
              "4263  Lotus      Evora  2013     premium unleaded (required)      345.0   \n",
              "4264  Lotus      Evora  2013     premium unleaded (required)      276.0   \n",
              "4265  Lotus      Evora  2014     premium unleaded (required)      345.0   \n",
              "4266  Lotus      Evora  2014     premium unleaded (required)      276.0   \n",
              "4267  Lotus      Evora  2014     premium unleaded (required)      345.0   \n",
              "4268  Lotus      Evora  2014     premium unleaded (required)      276.0   \n",
              "4292  Lotus      Exige  2009  premium unleaded (recommended)      257.0   \n",
              "4293  Lotus      Exige  2009  premium unleaded (recommended)      240.0   \n",
              "4294  Lotus      Exige  2010  premium unleaded (recommended)      240.0   \n",
              "4295  Lotus      Exige  2011  premium unleaded (recommended)      240.0   \n",
              "4296  Lotus      Exige  2011  premium unleaded (recommended)      257.0   \n",
              "4297  Lotus      Exige  2011  premium unleaded (recommended)      257.0   \n",
              "\n",
              "      Engine Cylinders Transmission Type     Driven_Wheels  Number of Doors  \\\n",
              "3912               4.0            MANUAL  rear wheel drive              2.0   \n",
              "3913               4.0            MANUAL  rear wheel drive              2.0   \n",
              "3914               4.0            MANUAL  rear wheel drive              2.0   \n",
              "3915               4.0            MANUAL  rear wheel drive              2.0   \n",
              "3916               4.0            MANUAL  rear wheel drive              2.0   \n",
              "3917               4.0            MANUAL  rear wheel drive              2.0   \n",
              "3918               4.0            MANUAL  rear wheel drive              2.0   \n",
              "3919               4.0            MANUAL  rear wheel drive              2.0   \n",
              "4216               8.0            MANUAL  rear wheel drive              2.0   \n",
              "4217               8.0            MANUAL  rear wheel drive              2.0   \n",
              "4218               8.0            MANUAL  rear wheel drive              2.0   \n",
              "4257               6.0            MANUAL  rear wheel drive              2.0   \n",
              "4258               6.0            MANUAL  rear wheel drive              2.0   \n",
              "4259               6.0            MANUAL  rear wheel drive              2.0   \n",
              "4260               6.0            MANUAL  rear wheel drive              2.0   \n",
              "4261               6.0            MANUAL  rear wheel drive              2.0   \n",
              "4262               6.0            MANUAL  rear wheel drive              2.0   \n",
              "4263               6.0            MANUAL  rear wheel drive              2.0   \n",
              "4264               6.0            MANUAL  rear wheel drive              2.0   \n",
              "4265               6.0            MANUAL  rear wheel drive              2.0   \n",
              "4266               6.0            MANUAL  rear wheel drive              2.0   \n",
              "4267               6.0            MANUAL  rear wheel drive              2.0   \n",
              "4268               6.0            MANUAL  rear wheel drive              2.0   \n",
              "4292               4.0            MANUAL  rear wheel drive              2.0   \n",
              "4293               4.0            MANUAL  rear wheel drive              2.0   \n",
              "4294               4.0            MANUAL  rear wheel drive              2.0   \n",
              "4295               4.0            MANUAL  rear wheel drive              2.0   \n",
              "4296               4.0            MANUAL  rear wheel drive              2.0   \n",
              "4297               4.0            MANUAL  rear wheel drive              2.0   \n",
              "\n",
              "              Market Category Vehicle Size Vehicle Style  highway MPG  \\\n",
              "3912  Exotic,High-Performance      Compact   Convertible           27   \n",
              "3913  Exotic,High-Performance      Compact   Convertible           26   \n",
              "3914  Exotic,High-Performance      Compact   Convertible           27   \n",
              "3915  Exotic,High-Performance      Compact   Convertible           27   \n",
              "3916  Exotic,High-Performance      Compact   Convertible           26   \n",
              "3917  Exotic,High-Performance      Compact   Convertible           27   \n",
              "3918  Exotic,High-Performance      Compact   Convertible           26   \n",
              "3919  Exotic,High-Performance      Compact   Convertible           26   \n",
              "4216  Exotic,High-Performance      Compact         Coupe           21   \n",
              "4217  Exotic,High-Performance      Compact         Coupe           21   \n",
              "4218  Exotic,High-Performance      Compact         Coupe           21   \n",
              "4257  Exotic,High-Performance      Compact         Coupe           39   \n",
              "4258  Exotic,High-Performance      Compact         Coupe           39   \n",
              "4259  Exotic,High-Performance      Compact         Coupe           27   \n",
              "4260  Exotic,High-Performance      Compact         Coupe           26   \n",
              "4261  Exotic,High-Performance      Compact         Coupe           26   \n",
              "4262  Exotic,High-Performance      Compact         Coupe           26   \n",
              "4263  Exotic,High-Performance      Compact         Coupe           26   \n",
              "4264  Exotic,High-Performance      Compact         Coupe           26   \n",
              "4265  Exotic,High-Performance      Compact         Coupe           26   \n",
              "4266  Exotic,High-Performance      Compact         Coupe           26   \n",
              "4267  Exotic,High-Performance      Compact         Coupe           26   \n",
              "4268  Exotic,High-Performance      Compact         Coupe           26   \n",
              "4292  Exotic,High-Performance      Compact         Coupe           26   \n",
              "4293  Exotic,High-Performance      Compact         Coupe           26   \n",
              "4294  Exotic,High-Performance      Compact         Coupe           26   \n",
              "4295  Exotic,High-Performance      Compact         Coupe           26   \n",
              "4296  Exotic,High-Performance      Compact         Coupe           26   \n",
              "4297  Exotic,High-Performance      Compact         Coupe           26   \n",
              "\n",
              "      city mpg  Popularity   MSRP  \n",
              "3912        21         613  43995  \n",
              "3913        20         613  54990  \n",
              "3914        21         613  47250  \n",
              "3915        21         613  47250  \n",
              "3916        20         613  54990  \n",
              "3917        21         613  51845  \n",
              "3918        20         613  54990  \n",
              "3919        20         613  57950  \n",
              "4216        14         613  89825  \n",
              "4217        14         613  90825  \n",
              "4218        14         613  93225  \n",
              "4257        21         613  91900  \n",
              "4258        21         613  91900  \n",
              "4259        18         613  64000  \n",
              "4260        18         613  65500  \n",
              "4261        18         613  66800  \n",
              "4262        17         613  77100  \n",
              "4263        17         613  78600  \n",
              "4264        18         613  68300  \n",
              "4265        17         613  78750  \n",
              "4266        18         613  68750  \n",
              "4267        17         613  79980  \n",
              "4268        18         613  69980  \n",
              "4292        20         613  74995  \n",
              "4293        20         613  65690  \n",
              "4294        20         613  65690  \n",
              "4295        20         613  65690  \n",
              "4296        20         613  70750  \n",
              "4297        20         613  74950  "
            ],
            "text/html": [
              "\n",
              "  <div id=\"df-0bd28eeb-3e76-41e2-a838-367e09138f5d\">\n",
              "    <div class=\"colab-df-container\">\n",
              "      <div>\n",
              "<style scoped>\n",
              "    .dataframe tbody tr th:only-of-type {\n",
              "        vertical-align: middle;\n",
              "    }\n",
              "\n",
              "    .dataframe tbody tr th {\n",
              "        vertical-align: top;\n",
              "    }\n",
              "\n",
              "    .dataframe thead th {\n",
              "        text-align: right;\n",
              "    }\n",
              "</style>\n",
              "<table border=\"1\" class=\"dataframe\">\n",
              "  <thead>\n",
              "    <tr style=\"text-align: right;\">\n",
              "      <th></th>\n",
              "      <th>Make</th>\n",
              "      <th>Model</th>\n",
              "      <th>Year</th>\n",
              "      <th>Engine Fuel Type</th>\n",
              "      <th>Engine HP</th>\n",
              "      <th>Engine Cylinders</th>\n",
              "      <th>Transmission Type</th>\n",
              "      <th>Driven_Wheels</th>\n",
              "      <th>Number of Doors</th>\n",
              "      <th>Market Category</th>\n",
              "      <th>Vehicle Size</th>\n",
              "      <th>Vehicle Style</th>\n",
              "      <th>highway MPG</th>\n",
              "      <th>city mpg</th>\n",
              "      <th>Popularity</th>\n",
              "      <th>MSRP</th>\n",
              "    </tr>\n",
              "  </thead>\n",
              "  <tbody>\n",
              "    <tr>\n",
              "      <th>3912</th>\n",
              "      <td>Lotus</td>\n",
              "      <td>Elise</td>\n",
              "      <td>2009</td>\n",
              "      <td>premium unleaded (required)</td>\n",
              "      <td>189.0</td>\n",
              "      <td>4.0</td>\n",
              "      <td>MANUAL</td>\n",
              "      <td>rear wheel drive</td>\n",
              "      <td>2.0</td>\n",
              "      <td>Exotic,High-Performance</td>\n",
              "      <td>Compact</td>\n",
              "      <td>Convertible</td>\n",
              "      <td>27</td>\n",
              "      <td>21</td>\n",
              "      <td>613</td>\n",
              "      <td>43995</td>\n",
              "    </tr>\n",
              "    <tr>\n",
              "      <th>3913</th>\n",
              "      <td>Lotus</td>\n",
              "      <td>Elise</td>\n",
              "      <td>2009</td>\n",
              "      <td>premium unleaded (required)</td>\n",
              "      <td>218.0</td>\n",
              "      <td>4.0</td>\n",
              "      <td>MANUAL</td>\n",
              "      <td>rear wheel drive</td>\n",
              "      <td>2.0</td>\n",
              "      <td>Exotic,High-Performance</td>\n",
              "      <td>Compact</td>\n",
              "      <td>Convertible</td>\n",
              "      <td>26</td>\n",
              "      <td>20</td>\n",
              "      <td>613</td>\n",
              "      <td>54990</td>\n",
              "    </tr>\n",
              "    <tr>\n",
              "      <th>3914</th>\n",
              "      <td>Lotus</td>\n",
              "      <td>Elise</td>\n",
              "      <td>2009</td>\n",
              "      <td>premium unleaded (required)</td>\n",
              "      <td>189.0</td>\n",
              "      <td>4.0</td>\n",
              "      <td>MANUAL</td>\n",
              "      <td>rear wheel drive</td>\n",
              "      <td>2.0</td>\n",
              "      <td>Exotic,High-Performance</td>\n",
              "      <td>Compact</td>\n",
              "      <td>Convertible</td>\n",
              "      <td>27</td>\n",
              "      <td>21</td>\n",
              "      <td>613</td>\n",
              "      <td>47250</td>\n",
              "    </tr>\n",
              "    <tr>\n",
              "      <th>3915</th>\n",
              "      <td>Lotus</td>\n",
              "      <td>Elise</td>\n",
              "      <td>2010</td>\n",
              "      <td>premium unleaded (required)</td>\n",
              "      <td>189.0</td>\n",
              "      <td>4.0</td>\n",
              "      <td>MANUAL</td>\n",
              "      <td>rear wheel drive</td>\n",
              "      <td>2.0</td>\n",
              "      <td>Exotic,High-Performance</td>\n",
              "      <td>Compact</td>\n",
              "      <td>Convertible</td>\n",
              "      <td>27</td>\n",
              "      <td>21</td>\n",
              "      <td>613</td>\n",
              "      <td>47250</td>\n",
              "    </tr>\n",
              "    <tr>\n",
              "      <th>3916</th>\n",
              "      <td>Lotus</td>\n",
              "      <td>Elise</td>\n",
              "      <td>2010</td>\n",
              "      <td>premium unleaded (required)</td>\n",
              "      <td>218.0</td>\n",
              "      <td>4.0</td>\n",
              "      <td>MANUAL</td>\n",
              "      <td>rear wheel drive</td>\n",
              "      <td>2.0</td>\n",
              "      <td>Exotic,High-Performance</td>\n",
              "      <td>Compact</td>\n",
              "      <td>Convertible</td>\n",
              "      <td>26</td>\n",
              "      <td>20</td>\n",
              "      <td>613</td>\n",
              "      <td>54990</td>\n",
              "    </tr>\n",
              "    <tr>\n",
              "      <th>3917</th>\n",
              "      <td>Lotus</td>\n",
              "      <td>Elise</td>\n",
              "      <td>2011</td>\n",
              "      <td>premium unleaded (required)</td>\n",
              "      <td>189.0</td>\n",
              "      <td>4.0</td>\n",
              "      <td>MANUAL</td>\n",
              "      <td>rear wheel drive</td>\n",
              "      <td>2.0</td>\n",
              "      <td>Exotic,High-Performance</td>\n",
              "      <td>Compact</td>\n",
              "      <td>Convertible</td>\n",
              "      <td>27</td>\n",
              "      <td>21</td>\n",
              "      <td>613</td>\n",
              "      <td>51845</td>\n",
              "    </tr>\n",
              "    <tr>\n",
              "      <th>3918</th>\n",
              "      <td>Lotus</td>\n",
              "      <td>Elise</td>\n",
              "      <td>2011</td>\n",
              "      <td>premium unleaded (required)</td>\n",
              "      <td>217.0</td>\n",
              "      <td>4.0</td>\n",
              "      <td>MANUAL</td>\n",
              "      <td>rear wheel drive</td>\n",
              "      <td>2.0</td>\n",
              "      <td>Exotic,High-Performance</td>\n",
              "      <td>Compact</td>\n",
              "      <td>Convertible</td>\n",
              "      <td>26</td>\n",
              "      <td>20</td>\n",
              "      <td>613</td>\n",
              "      <td>54990</td>\n",
              "    </tr>\n",
              "    <tr>\n",
              "      <th>3919</th>\n",
              "      <td>Lotus</td>\n",
              "      <td>Elise</td>\n",
              "      <td>2011</td>\n",
              "      <td>premium unleaded (required)</td>\n",
              "      <td>217.0</td>\n",
              "      <td>4.0</td>\n",
              "      <td>MANUAL</td>\n",
              "      <td>rear wheel drive</td>\n",
              "      <td>2.0</td>\n",
              "      <td>Exotic,High-Performance</td>\n",
              "      <td>Compact</td>\n",
              "      <td>Convertible</td>\n",
              "      <td>26</td>\n",
              "      <td>20</td>\n",
              "      <td>613</td>\n",
              "      <td>57950</td>\n",
              "    </tr>\n",
              "    <tr>\n",
              "      <th>4216</th>\n",
              "      <td>Lotus</td>\n",
              "      <td>Esprit</td>\n",
              "      <td>2002</td>\n",
              "      <td>premium unleaded (required)</td>\n",
              "      <td>350.0</td>\n",
              "      <td>8.0</td>\n",
              "      <td>MANUAL</td>\n",
              "      <td>rear wheel drive</td>\n",
              "      <td>2.0</td>\n",
              "      <td>Exotic,High-Performance</td>\n",
              "      <td>Compact</td>\n",
              "      <td>Coupe</td>\n",
              "      <td>21</td>\n",
              "      <td>14</td>\n",
              "      <td>613</td>\n",
              "      <td>89825</td>\n",
              "    </tr>\n",
              "    <tr>\n",
              "      <th>4217</th>\n",
              "      <td>Lotus</td>\n",
              "      <td>Esprit</td>\n",
              "      <td>2003</td>\n",
              "      <td>premium unleaded (required)</td>\n",
              "      <td>350.0</td>\n",
              "      <td>8.0</td>\n",
              "      <td>MANUAL</td>\n",
              "      <td>rear wheel drive</td>\n",
              "      <td>2.0</td>\n",
              "      <td>Exotic,High-Performance</td>\n",
              "      <td>Compact</td>\n",
              "      <td>Coupe</td>\n",
              "      <td>21</td>\n",
              "      <td>14</td>\n",
              "      <td>613</td>\n",
              "      <td>90825</td>\n",
              "    </tr>\n",
              "    <tr>\n",
              "      <th>4218</th>\n",
              "      <td>Lotus</td>\n",
              "      <td>Esprit</td>\n",
              "      <td>2004</td>\n",
              "      <td>premium unleaded (required)</td>\n",
              "      <td>350.0</td>\n",
              "      <td>8.0</td>\n",
              "      <td>MANUAL</td>\n",
              "      <td>rear wheel drive</td>\n",
              "      <td>2.0</td>\n",
              "      <td>Exotic,High-Performance</td>\n",
              "      <td>Compact</td>\n",
              "      <td>Coupe</td>\n",
              "      <td>21</td>\n",
              "      <td>14</td>\n",
              "      <td>613</td>\n",
              "      <td>93225</td>\n",
              "    </tr>\n",
              "    <tr>\n",
              "      <th>4257</th>\n",
              "      <td>Lotus</td>\n",
              "      <td>Evora 400</td>\n",
              "      <td>2017</td>\n",
              "      <td>premium unleaded (required)</td>\n",
              "      <td>400.0</td>\n",
              "      <td>6.0</td>\n",
              "      <td>MANUAL</td>\n",
              "      <td>rear wheel drive</td>\n",
              "      <td>2.0</td>\n",
              "      <td>Exotic,High-Performance</td>\n",
              "      <td>Compact</td>\n",
              "      <td>Coupe</td>\n",
              "      <td>39</td>\n",
              "      <td>21</td>\n",
              "      <td>613</td>\n",
              "      <td>91900</td>\n",
              "    </tr>\n",
              "    <tr>\n",
              "      <th>4258</th>\n",
              "      <td>Lotus</td>\n",
              "      <td>Evora 400</td>\n",
              "      <td>2017</td>\n",
              "      <td>premium unleaded (required)</td>\n",
              "      <td>400.0</td>\n",
              "      <td>6.0</td>\n",
              "      <td>MANUAL</td>\n",
              "      <td>rear wheel drive</td>\n",
              "      <td>2.0</td>\n",
              "      <td>Exotic,High-Performance</td>\n",
              "      <td>Compact</td>\n",
              "      <td>Coupe</td>\n",
              "      <td>39</td>\n",
              "      <td>21</td>\n",
              "      <td>613</td>\n",
              "      <td>91900</td>\n",
              "    </tr>\n",
              "    <tr>\n",
              "      <th>4259</th>\n",
              "      <td>Lotus</td>\n",
              "      <td>Evora</td>\n",
              "      <td>2011</td>\n",
              "      <td>premium unleaded (required)</td>\n",
              "      <td>276.0</td>\n",
              "      <td>6.0</td>\n",
              "      <td>MANUAL</td>\n",
              "      <td>rear wheel drive</td>\n",
              "      <td>2.0</td>\n",
              "      <td>Exotic,High-Performance</td>\n",
              "      <td>Compact</td>\n",
              "      <td>Coupe</td>\n",
              "      <td>27</td>\n",
              "      <td>18</td>\n",
              "      <td>613</td>\n",
              "      <td>64000</td>\n",
              "    </tr>\n",
              "    <tr>\n",
              "      <th>4260</th>\n",
              "      <td>Lotus</td>\n",
              "      <td>Evora</td>\n",
              "      <td>2011</td>\n",
              "      <td>premium unleaded (required)</td>\n",
              "      <td>276.0</td>\n",
              "      <td>6.0</td>\n",
              "      <td>MANUAL</td>\n",
              "      <td>rear wheel drive</td>\n",
              "      <td>2.0</td>\n",
              "      <td>Exotic,High-Performance</td>\n",
              "      <td>Compact</td>\n",
              "      <td>Coupe</td>\n",
              "      <td>26</td>\n",
              "      <td>18</td>\n",
              "      <td>613</td>\n",
              "      <td>65500</td>\n",
              "    </tr>\n",
              "    <tr>\n",
              "      <th>4261</th>\n",
              "      <td>Lotus</td>\n",
              "      <td>Evora</td>\n",
              "      <td>2013</td>\n",
              "      <td>premium unleaded (required)</td>\n",
              "      <td>276.0</td>\n",
              "      <td>6.0</td>\n",
              "      <td>MANUAL</td>\n",
              "      <td>rear wheel drive</td>\n",
              "      <td>2.0</td>\n",
              "      <td>Exotic,High-Performance</td>\n",
              "      <td>Compact</td>\n",
              "      <td>Coupe</td>\n",
              "      <td>26</td>\n",
              "      <td>18</td>\n",
              "      <td>613</td>\n",
              "      <td>66800</td>\n",
              "    </tr>\n",
              "    <tr>\n",
              "      <th>4262</th>\n",
              "      <td>Lotus</td>\n",
              "      <td>Evora</td>\n",
              "      <td>2013</td>\n",
              "      <td>premium unleaded (required)</td>\n",
              "      <td>345.0</td>\n",
              "      <td>6.0</td>\n",
              "      <td>MANUAL</td>\n",
              "      <td>rear wheel drive</td>\n",
              "      <td>2.0</td>\n",
              "      <td>Exotic,High-Performance</td>\n",
              "      <td>Compact</td>\n",
              "      <td>Coupe</td>\n",
              "      <td>26</td>\n",
              "      <td>17</td>\n",
              "      <td>613</td>\n",
              "      <td>77100</td>\n",
              "    </tr>\n",
              "    <tr>\n",
              "      <th>4263</th>\n",
              "      <td>Lotus</td>\n",
              "      <td>Evora</td>\n",
              "      <td>2013</td>\n",
              "      <td>premium unleaded (required)</td>\n",
              "      <td>345.0</td>\n",
              "      <td>6.0</td>\n",
              "      <td>MANUAL</td>\n",
              "      <td>rear wheel drive</td>\n",
              "      <td>2.0</td>\n",
              "      <td>Exotic,High-Performance</td>\n",
              "      <td>Compact</td>\n",
              "      <td>Coupe</td>\n",
              "      <td>26</td>\n",
              "      <td>17</td>\n",
              "      <td>613</td>\n",
              "      <td>78600</td>\n",
              "    </tr>\n",
              "    <tr>\n",
              "      <th>4264</th>\n",
              "      <td>Lotus</td>\n",
              "      <td>Evora</td>\n",
              "      <td>2013</td>\n",
              "      <td>premium unleaded (required)</td>\n",
              "      <td>276.0</td>\n",
              "      <td>6.0</td>\n",
              "      <td>MANUAL</td>\n",
              "      <td>rear wheel drive</td>\n",
              "      <td>2.0</td>\n",
              "      <td>Exotic,High-Performance</td>\n",
              "      <td>Compact</td>\n",
              "      <td>Coupe</td>\n",
              "      <td>26</td>\n",
              "      <td>18</td>\n",
              "      <td>613</td>\n",
              "      <td>68300</td>\n",
              "    </tr>\n",
              "    <tr>\n",
              "      <th>4265</th>\n",
              "      <td>Lotus</td>\n",
              "      <td>Evora</td>\n",
              "      <td>2014</td>\n",
              "      <td>premium unleaded (required)</td>\n",
              "      <td>345.0</td>\n",
              "      <td>6.0</td>\n",
              "      <td>MANUAL</td>\n",
              "      <td>rear wheel drive</td>\n",
              "      <td>2.0</td>\n",
              "      <td>Exotic,High-Performance</td>\n",
              "      <td>Compact</td>\n",
              "      <td>Coupe</td>\n",
              "      <td>26</td>\n",
              "      <td>17</td>\n",
              "      <td>613</td>\n",
              "      <td>78750</td>\n",
              "    </tr>\n",
              "    <tr>\n",
              "      <th>4266</th>\n",
              "      <td>Lotus</td>\n",
              "      <td>Evora</td>\n",
              "      <td>2014</td>\n",
              "      <td>premium unleaded (required)</td>\n",
              "      <td>276.0</td>\n",
              "      <td>6.0</td>\n",
              "      <td>MANUAL</td>\n",
              "      <td>rear wheel drive</td>\n",
              "      <td>2.0</td>\n",
              "      <td>Exotic,High-Performance</td>\n",
              "      <td>Compact</td>\n",
              "      <td>Coupe</td>\n",
              "      <td>26</td>\n",
              "      <td>18</td>\n",
              "      <td>613</td>\n",
              "      <td>68750</td>\n",
              "    </tr>\n",
              "    <tr>\n",
              "      <th>4267</th>\n",
              "      <td>Lotus</td>\n",
              "      <td>Evora</td>\n",
              "      <td>2014</td>\n",
              "      <td>premium unleaded (required)</td>\n",
              "      <td>345.0</td>\n",
              "      <td>6.0</td>\n",
              "      <td>MANUAL</td>\n",
              "      <td>rear wheel drive</td>\n",
              "      <td>2.0</td>\n",
              "      <td>Exotic,High-Performance</td>\n",
              "      <td>Compact</td>\n",
              "      <td>Coupe</td>\n",
              "      <td>26</td>\n",
              "      <td>17</td>\n",
              "      <td>613</td>\n",
              "      <td>79980</td>\n",
              "    </tr>\n",
              "    <tr>\n",
              "      <th>4268</th>\n",
              "      <td>Lotus</td>\n",
              "      <td>Evora</td>\n",
              "      <td>2014</td>\n",
              "      <td>premium unleaded (required)</td>\n",
              "      <td>276.0</td>\n",
              "      <td>6.0</td>\n",
              "      <td>MANUAL</td>\n",
              "      <td>rear wheel drive</td>\n",
              "      <td>2.0</td>\n",
              "      <td>Exotic,High-Performance</td>\n",
              "      <td>Compact</td>\n",
              "      <td>Coupe</td>\n",
              "      <td>26</td>\n",
              "      <td>18</td>\n",
              "      <td>613</td>\n",
              "      <td>69980</td>\n",
              "    </tr>\n",
              "    <tr>\n",
              "      <th>4292</th>\n",
              "      <td>Lotus</td>\n",
              "      <td>Exige</td>\n",
              "      <td>2009</td>\n",
              "      <td>premium unleaded (recommended)</td>\n",
              "      <td>257.0</td>\n",
              "      <td>4.0</td>\n",
              "      <td>MANUAL</td>\n",
              "      <td>rear wheel drive</td>\n",
              "      <td>2.0</td>\n",
              "      <td>Exotic,High-Performance</td>\n",
              "      <td>Compact</td>\n",
              "      <td>Coupe</td>\n",
              "      <td>26</td>\n",
              "      <td>20</td>\n",
              "      <td>613</td>\n",
              "      <td>74995</td>\n",
              "    </tr>\n",
              "    <tr>\n",
              "      <th>4293</th>\n",
              "      <td>Lotus</td>\n",
              "      <td>Exige</td>\n",
              "      <td>2009</td>\n",
              "      <td>premium unleaded (recommended)</td>\n",
              "      <td>240.0</td>\n",
              "      <td>4.0</td>\n",
              "      <td>MANUAL</td>\n",
              "      <td>rear wheel drive</td>\n",
              "      <td>2.0</td>\n",
              "      <td>Exotic,High-Performance</td>\n",
              "      <td>Compact</td>\n",
              "      <td>Coupe</td>\n",
              "      <td>26</td>\n",
              "      <td>20</td>\n",
              "      <td>613</td>\n",
              "      <td>65690</td>\n",
              "    </tr>\n",
              "    <tr>\n",
              "      <th>4294</th>\n",
              "      <td>Lotus</td>\n",
              "      <td>Exige</td>\n",
              "      <td>2010</td>\n",
              "      <td>premium unleaded (recommended)</td>\n",
              "      <td>240.0</td>\n",
              "      <td>4.0</td>\n",
              "      <td>MANUAL</td>\n",
              "      <td>rear wheel drive</td>\n",
              "      <td>2.0</td>\n",
              "      <td>Exotic,High-Performance</td>\n",
              "      <td>Compact</td>\n",
              "      <td>Coupe</td>\n",
              "      <td>26</td>\n",
              "      <td>20</td>\n",
              "      <td>613</td>\n",
              "      <td>65690</td>\n",
              "    </tr>\n",
              "    <tr>\n",
              "      <th>4295</th>\n",
              "      <td>Lotus</td>\n",
              "      <td>Exige</td>\n",
              "      <td>2011</td>\n",
              "      <td>premium unleaded (recommended)</td>\n",
              "      <td>240.0</td>\n",
              "      <td>4.0</td>\n",
              "      <td>MANUAL</td>\n",
              "      <td>rear wheel drive</td>\n",
              "      <td>2.0</td>\n",
              "      <td>Exotic,High-Performance</td>\n",
              "      <td>Compact</td>\n",
              "      <td>Coupe</td>\n",
              "      <td>26</td>\n",
              "      <td>20</td>\n",
              "      <td>613</td>\n",
              "      <td>65690</td>\n",
              "    </tr>\n",
              "    <tr>\n",
              "      <th>4296</th>\n",
              "      <td>Lotus</td>\n",
              "      <td>Exige</td>\n",
              "      <td>2011</td>\n",
              "      <td>premium unleaded (recommended)</td>\n",
              "      <td>257.0</td>\n",
              "      <td>4.0</td>\n",
              "      <td>MANUAL</td>\n",
              "      <td>rear wheel drive</td>\n",
              "      <td>2.0</td>\n",
              "      <td>Exotic,High-Performance</td>\n",
              "      <td>Compact</td>\n",
              "      <td>Coupe</td>\n",
              "      <td>26</td>\n",
              "      <td>20</td>\n",
              "      <td>613</td>\n",
              "      <td>70750</td>\n",
              "    </tr>\n",
              "    <tr>\n",
              "      <th>4297</th>\n",
              "      <td>Lotus</td>\n",
              "      <td>Exige</td>\n",
              "      <td>2011</td>\n",
              "      <td>premium unleaded (recommended)</td>\n",
              "      <td>257.0</td>\n",
              "      <td>4.0</td>\n",
              "      <td>MANUAL</td>\n",
              "      <td>rear wheel drive</td>\n",
              "      <td>2.0</td>\n",
              "      <td>Exotic,High-Performance</td>\n",
              "      <td>Compact</td>\n",
              "      <td>Coupe</td>\n",
              "      <td>26</td>\n",
              "      <td>20</td>\n",
              "      <td>613</td>\n",
              "      <td>74950</td>\n",
              "    </tr>\n",
              "  </tbody>\n",
              "</table>\n",
              "</div>\n",
              "      <button class=\"colab-df-convert\" onclick=\"convertToInteractive('df-0bd28eeb-3e76-41e2-a838-367e09138f5d')\"\n",
              "              title=\"Convert this dataframe to an interactive table.\"\n",
              "              style=\"display:none;\">\n",
              "        \n",
              "  <svg xmlns=\"http://www.w3.org/2000/svg\" height=\"24px\"viewBox=\"0 0 24 24\"\n",
              "       width=\"24px\">\n",
              "    <path d=\"M0 0h24v24H0V0z\" fill=\"none\"/>\n",
              "    <path d=\"M18.56 5.44l.94 2.06.94-2.06 2.06-.94-2.06-.94-.94-2.06-.94 2.06-2.06.94zm-11 1L8.5 8.5l.94-2.06 2.06-.94-2.06-.94L8.5 2.5l-.94 2.06-2.06.94zm10 10l.94 2.06.94-2.06 2.06-.94-2.06-.94-.94-2.06-.94 2.06-2.06.94z\"/><path d=\"M17.41 7.96l-1.37-1.37c-.4-.4-.92-.59-1.43-.59-.52 0-1.04.2-1.43.59L10.3 9.45l-7.72 7.72c-.78.78-.78 2.05 0 2.83L4 21.41c.39.39.9.59 1.41.59.51 0 1.02-.2 1.41-.59l7.78-7.78 2.81-2.81c.8-.78.8-2.07 0-2.86zM5.41 20L4 18.59l7.72-7.72 1.47 1.35L5.41 20z\"/>\n",
              "  </svg>\n",
              "      </button>\n",
              "      \n",
              "  <style>\n",
              "    .colab-df-container {\n",
              "      display:flex;\n",
              "      flex-wrap:wrap;\n",
              "      gap: 12px;\n",
              "    }\n",
              "\n",
              "    .colab-df-convert {\n",
              "      background-color: #E8F0FE;\n",
              "      border: none;\n",
              "      border-radius: 50%;\n",
              "      cursor: pointer;\n",
              "      display: none;\n",
              "      fill: #1967D2;\n",
              "      height: 32px;\n",
              "      padding: 0 0 0 0;\n",
              "      width: 32px;\n",
              "    }\n",
              "\n",
              "    .colab-df-convert:hover {\n",
              "      background-color: #E2EBFA;\n",
              "      box-shadow: 0px 1px 2px rgba(60, 64, 67, 0.3), 0px 1px 3px 1px rgba(60, 64, 67, 0.15);\n",
              "      fill: #174EA6;\n",
              "    }\n",
              "\n",
              "    [theme=dark] .colab-df-convert {\n",
              "      background-color: #3B4455;\n",
              "      fill: #D2E3FC;\n",
              "    }\n",
              "\n",
              "    [theme=dark] .colab-df-convert:hover {\n",
              "      background-color: #434B5C;\n",
              "      box-shadow: 0px 1px 3px 1px rgba(0, 0, 0, 0.15);\n",
              "      filter: drop-shadow(0px 1px 2px rgba(0, 0, 0, 0.3));\n",
              "      fill: #FFFFFF;\n",
              "    }\n",
              "  </style>\n",
              "\n",
              "      <script>\n",
              "        const buttonEl =\n",
              "          document.querySelector('#df-0bd28eeb-3e76-41e2-a838-367e09138f5d button.colab-df-convert');\n",
              "        buttonEl.style.display =\n",
              "          google.colab.kernel.accessAllowed ? 'block' : 'none';\n",
              "\n",
              "        async function convertToInteractive(key) {\n",
              "          const element = document.querySelector('#df-0bd28eeb-3e76-41e2-a838-367e09138f5d');\n",
              "          const dataTable =\n",
              "            await google.colab.kernel.invokeFunction('convertToInteractive',\n",
              "                                                     [key], {});\n",
              "          if (!dataTable) return;\n",
              "\n",
              "          const docLinkHtml = 'Like what you see? Visit the ' +\n",
              "            '<a target=\"_blank\" href=https://colab.research.google.com/notebooks/data_table.ipynb>data table notebook</a>'\n",
              "            + ' to learn more about interactive tables.';\n",
              "          element.innerHTML = '';\n",
              "          dataTable['output_type'] = 'display_data';\n",
              "          await google.colab.output.renderOutput(dataTable, element);\n",
              "          const docLink = document.createElement('div');\n",
              "          docLink.innerHTML = docLinkHtml;\n",
              "          element.appendChild(docLink);\n",
              "        }\n",
              "      </script>\n",
              "    </div>\n",
              "  </div>\n",
              "  "
            ]
          },
          "metadata": {},
          "execution_count": 38
        }
      ]
    },
    {
      "cell_type": "markdown",
      "source": [
        "##7.2 Select only columns \"Engine HP\", \"Engine Cylinders\"."
      ],
      "metadata": {
        "id": "rv3ZA65qY30f"
      }
    },
    {
      "cell_type": "code",
      "source": [
        "lotus = lotus[['Engine HP', 'Engine Cylinders']]\n",
        "lotus"
      ],
      "metadata": {
        "colab": {
          "base_uri": "https://localhost:8080/",
          "height": 948
        },
        "id": "RGq5x4xmYpsa",
        "outputId": "0d79f8ea-408f-47f1-eaf2-315763a51086"
      },
      "execution_count": 40,
      "outputs": [
        {
          "output_type": "execute_result",
          "data": {
            "text/plain": [
              "      Engine HP  Engine Cylinders\n",
              "3912      189.0               4.0\n",
              "3913      218.0               4.0\n",
              "3914      189.0               4.0\n",
              "3915      189.0               4.0\n",
              "3916      218.0               4.0\n",
              "3917      189.0               4.0\n",
              "3918      217.0               4.0\n",
              "3919      217.0               4.0\n",
              "4216      350.0               8.0\n",
              "4217      350.0               8.0\n",
              "4218      350.0               8.0\n",
              "4257      400.0               6.0\n",
              "4258      400.0               6.0\n",
              "4259      276.0               6.0\n",
              "4260      276.0               6.0\n",
              "4261      276.0               6.0\n",
              "4262      345.0               6.0\n",
              "4263      345.0               6.0\n",
              "4264      276.0               6.0\n",
              "4265      345.0               6.0\n",
              "4266      276.0               6.0\n",
              "4267      345.0               6.0\n",
              "4268      276.0               6.0\n",
              "4292      257.0               4.0\n",
              "4293      240.0               4.0\n",
              "4294      240.0               4.0\n",
              "4295      240.0               4.0\n",
              "4296      257.0               4.0\n",
              "4297      257.0               4.0"
            ],
            "text/html": [
              "\n",
              "  <div id=\"df-862767d7-ba71-4141-ab6e-5fc85d72f86b\">\n",
              "    <div class=\"colab-df-container\">\n",
              "      <div>\n",
              "<style scoped>\n",
              "    .dataframe tbody tr th:only-of-type {\n",
              "        vertical-align: middle;\n",
              "    }\n",
              "\n",
              "    .dataframe tbody tr th {\n",
              "        vertical-align: top;\n",
              "    }\n",
              "\n",
              "    .dataframe thead th {\n",
              "        text-align: right;\n",
              "    }\n",
              "</style>\n",
              "<table border=\"1\" class=\"dataframe\">\n",
              "  <thead>\n",
              "    <tr style=\"text-align: right;\">\n",
              "      <th></th>\n",
              "      <th>Engine HP</th>\n",
              "      <th>Engine Cylinders</th>\n",
              "    </tr>\n",
              "  </thead>\n",
              "  <tbody>\n",
              "    <tr>\n",
              "      <th>3912</th>\n",
              "      <td>189.0</td>\n",
              "      <td>4.0</td>\n",
              "    </tr>\n",
              "    <tr>\n",
              "      <th>3913</th>\n",
              "      <td>218.0</td>\n",
              "      <td>4.0</td>\n",
              "    </tr>\n",
              "    <tr>\n",
              "      <th>3914</th>\n",
              "      <td>189.0</td>\n",
              "      <td>4.0</td>\n",
              "    </tr>\n",
              "    <tr>\n",
              "      <th>3915</th>\n",
              "      <td>189.0</td>\n",
              "      <td>4.0</td>\n",
              "    </tr>\n",
              "    <tr>\n",
              "      <th>3916</th>\n",
              "      <td>218.0</td>\n",
              "      <td>4.0</td>\n",
              "    </tr>\n",
              "    <tr>\n",
              "      <th>3917</th>\n",
              "      <td>189.0</td>\n",
              "      <td>4.0</td>\n",
              "    </tr>\n",
              "    <tr>\n",
              "      <th>3918</th>\n",
              "      <td>217.0</td>\n",
              "      <td>4.0</td>\n",
              "    </tr>\n",
              "    <tr>\n",
              "      <th>3919</th>\n",
              "      <td>217.0</td>\n",
              "      <td>4.0</td>\n",
              "    </tr>\n",
              "    <tr>\n",
              "      <th>4216</th>\n",
              "      <td>350.0</td>\n",
              "      <td>8.0</td>\n",
              "    </tr>\n",
              "    <tr>\n",
              "      <th>4217</th>\n",
              "      <td>350.0</td>\n",
              "      <td>8.0</td>\n",
              "    </tr>\n",
              "    <tr>\n",
              "      <th>4218</th>\n",
              "      <td>350.0</td>\n",
              "      <td>8.0</td>\n",
              "    </tr>\n",
              "    <tr>\n",
              "      <th>4257</th>\n",
              "      <td>400.0</td>\n",
              "      <td>6.0</td>\n",
              "    </tr>\n",
              "    <tr>\n",
              "      <th>4258</th>\n",
              "      <td>400.0</td>\n",
              "      <td>6.0</td>\n",
              "    </tr>\n",
              "    <tr>\n",
              "      <th>4259</th>\n",
              "      <td>276.0</td>\n",
              "      <td>6.0</td>\n",
              "    </tr>\n",
              "    <tr>\n",
              "      <th>4260</th>\n",
              "      <td>276.0</td>\n",
              "      <td>6.0</td>\n",
              "    </tr>\n",
              "    <tr>\n",
              "      <th>4261</th>\n",
              "      <td>276.0</td>\n",
              "      <td>6.0</td>\n",
              "    </tr>\n",
              "    <tr>\n",
              "      <th>4262</th>\n",
              "      <td>345.0</td>\n",
              "      <td>6.0</td>\n",
              "    </tr>\n",
              "    <tr>\n",
              "      <th>4263</th>\n",
              "      <td>345.0</td>\n",
              "      <td>6.0</td>\n",
              "    </tr>\n",
              "    <tr>\n",
              "      <th>4264</th>\n",
              "      <td>276.0</td>\n",
              "      <td>6.0</td>\n",
              "    </tr>\n",
              "    <tr>\n",
              "      <th>4265</th>\n",
              "      <td>345.0</td>\n",
              "      <td>6.0</td>\n",
              "    </tr>\n",
              "    <tr>\n",
              "      <th>4266</th>\n",
              "      <td>276.0</td>\n",
              "      <td>6.0</td>\n",
              "    </tr>\n",
              "    <tr>\n",
              "      <th>4267</th>\n",
              "      <td>345.0</td>\n",
              "      <td>6.0</td>\n",
              "    </tr>\n",
              "    <tr>\n",
              "      <th>4268</th>\n",
              "      <td>276.0</td>\n",
              "      <td>6.0</td>\n",
              "    </tr>\n",
              "    <tr>\n",
              "      <th>4292</th>\n",
              "      <td>257.0</td>\n",
              "      <td>4.0</td>\n",
              "    </tr>\n",
              "    <tr>\n",
              "      <th>4293</th>\n",
              "      <td>240.0</td>\n",
              "      <td>4.0</td>\n",
              "    </tr>\n",
              "    <tr>\n",
              "      <th>4294</th>\n",
              "      <td>240.0</td>\n",
              "      <td>4.0</td>\n",
              "    </tr>\n",
              "    <tr>\n",
              "      <th>4295</th>\n",
              "      <td>240.0</td>\n",
              "      <td>4.0</td>\n",
              "    </tr>\n",
              "    <tr>\n",
              "      <th>4296</th>\n",
              "      <td>257.0</td>\n",
              "      <td>4.0</td>\n",
              "    </tr>\n",
              "    <tr>\n",
              "      <th>4297</th>\n",
              "      <td>257.0</td>\n",
              "      <td>4.0</td>\n",
              "    </tr>\n",
              "  </tbody>\n",
              "</table>\n",
              "</div>\n",
              "      <button class=\"colab-df-convert\" onclick=\"convertToInteractive('df-862767d7-ba71-4141-ab6e-5fc85d72f86b')\"\n",
              "              title=\"Convert this dataframe to an interactive table.\"\n",
              "              style=\"display:none;\">\n",
              "        \n",
              "  <svg xmlns=\"http://www.w3.org/2000/svg\" height=\"24px\"viewBox=\"0 0 24 24\"\n",
              "       width=\"24px\">\n",
              "    <path d=\"M0 0h24v24H0V0z\" fill=\"none\"/>\n",
              "    <path d=\"M18.56 5.44l.94 2.06.94-2.06 2.06-.94-2.06-.94-.94-2.06-.94 2.06-2.06.94zm-11 1L8.5 8.5l.94-2.06 2.06-.94-2.06-.94L8.5 2.5l-.94 2.06-2.06.94zm10 10l.94 2.06.94-2.06 2.06-.94-2.06-.94-.94-2.06-.94 2.06-2.06.94z\"/><path d=\"M17.41 7.96l-1.37-1.37c-.4-.4-.92-.59-1.43-.59-.52 0-1.04.2-1.43.59L10.3 9.45l-7.72 7.72c-.78.78-.78 2.05 0 2.83L4 21.41c.39.39.9.59 1.41.59.51 0 1.02-.2 1.41-.59l7.78-7.78 2.81-2.81c.8-.78.8-2.07 0-2.86zM5.41 20L4 18.59l7.72-7.72 1.47 1.35L5.41 20z\"/>\n",
              "  </svg>\n",
              "      </button>\n",
              "      \n",
              "  <style>\n",
              "    .colab-df-container {\n",
              "      display:flex;\n",
              "      flex-wrap:wrap;\n",
              "      gap: 12px;\n",
              "    }\n",
              "\n",
              "    .colab-df-convert {\n",
              "      background-color: #E8F0FE;\n",
              "      border: none;\n",
              "      border-radius: 50%;\n",
              "      cursor: pointer;\n",
              "      display: none;\n",
              "      fill: #1967D2;\n",
              "      height: 32px;\n",
              "      padding: 0 0 0 0;\n",
              "      width: 32px;\n",
              "    }\n",
              "\n",
              "    .colab-df-convert:hover {\n",
              "      background-color: #E2EBFA;\n",
              "      box-shadow: 0px 1px 2px rgba(60, 64, 67, 0.3), 0px 1px 3px 1px rgba(60, 64, 67, 0.15);\n",
              "      fill: #174EA6;\n",
              "    }\n",
              "\n",
              "    [theme=dark] .colab-df-convert {\n",
              "      background-color: #3B4455;\n",
              "      fill: #D2E3FC;\n",
              "    }\n",
              "\n",
              "    [theme=dark] .colab-df-convert:hover {\n",
              "      background-color: #434B5C;\n",
              "      box-shadow: 0px 1px 3px 1px rgba(0, 0, 0, 0.15);\n",
              "      filter: drop-shadow(0px 1px 2px rgba(0, 0, 0, 0.3));\n",
              "      fill: #FFFFFF;\n",
              "    }\n",
              "  </style>\n",
              "\n",
              "      <script>\n",
              "        const buttonEl =\n",
              "          document.querySelector('#df-862767d7-ba71-4141-ab6e-5fc85d72f86b button.colab-df-convert');\n",
              "        buttonEl.style.display =\n",
              "          google.colab.kernel.accessAllowed ? 'block' : 'none';\n",
              "\n",
              "        async function convertToInteractive(key) {\n",
              "          const element = document.querySelector('#df-862767d7-ba71-4141-ab6e-5fc85d72f86b');\n",
              "          const dataTable =\n",
              "            await google.colab.kernel.invokeFunction('convertToInteractive',\n",
              "                                                     [key], {});\n",
              "          if (!dataTable) return;\n",
              "\n",
              "          const docLinkHtml = 'Like what you see? Visit the ' +\n",
              "            '<a target=\"_blank\" href=https://colab.research.google.com/notebooks/data_table.ipynb>data table notebook</a>'\n",
              "            + ' to learn more about interactive tables.';\n",
              "          element.innerHTML = '';\n",
              "          dataTable['output_type'] = 'display_data';\n",
              "          await google.colab.output.renderOutput(dataTable, element);\n",
              "          const docLink = document.createElement('div');\n",
              "          docLink.innerHTML = docLinkHtml;\n",
              "          element.appendChild(docLink);\n",
              "        }\n",
              "      </script>\n",
              "    </div>\n",
              "  </div>\n",
              "  "
            ]
          },
          "metadata": {},
          "execution_count": 40
        }
      ]
    },
    {
      "cell_type": "markdown",
      "source": [
        "##7.3 Now drop all duplicated rows using drop_duplicates method "
      ],
      "metadata": {
        "id": "eTrBtj88ZTAp"
      }
    },
    {
      "cell_type": "code",
      "source": [
        "lotus = lotus.drop_duplicates()\n",
        "lotus"
      ],
      "metadata": {
        "colab": {
          "base_uri": "https://localhost:8080/",
          "height": 328
        },
        "id": "X1FvejXJZL6v",
        "outputId": "56969b5b-5529-4093-948e-362dd6e324fe"
      },
      "execution_count": 41,
      "outputs": [
        {
          "output_type": "execute_result",
          "data": {
            "text/plain": [
              "      Engine HP  Engine Cylinders\n",
              "3912      189.0               4.0\n",
              "3913      218.0               4.0\n",
              "3918      217.0               4.0\n",
              "4216      350.0               8.0\n",
              "4257      400.0               6.0\n",
              "4259      276.0               6.0\n",
              "4262      345.0               6.0\n",
              "4292      257.0               4.0\n",
              "4293      240.0               4.0"
            ],
            "text/html": [
              "\n",
              "  <div id=\"df-8aa0a406-a54d-44f9-9c51-07d02440aa48\">\n",
              "    <div class=\"colab-df-container\">\n",
              "      <div>\n",
              "<style scoped>\n",
              "    .dataframe tbody tr th:only-of-type {\n",
              "        vertical-align: middle;\n",
              "    }\n",
              "\n",
              "    .dataframe tbody tr th {\n",
              "        vertical-align: top;\n",
              "    }\n",
              "\n",
              "    .dataframe thead th {\n",
              "        text-align: right;\n",
              "    }\n",
              "</style>\n",
              "<table border=\"1\" class=\"dataframe\">\n",
              "  <thead>\n",
              "    <tr style=\"text-align: right;\">\n",
              "      <th></th>\n",
              "      <th>Engine HP</th>\n",
              "      <th>Engine Cylinders</th>\n",
              "    </tr>\n",
              "  </thead>\n",
              "  <tbody>\n",
              "    <tr>\n",
              "      <th>3912</th>\n",
              "      <td>189.0</td>\n",
              "      <td>4.0</td>\n",
              "    </tr>\n",
              "    <tr>\n",
              "      <th>3913</th>\n",
              "      <td>218.0</td>\n",
              "      <td>4.0</td>\n",
              "    </tr>\n",
              "    <tr>\n",
              "      <th>3918</th>\n",
              "      <td>217.0</td>\n",
              "      <td>4.0</td>\n",
              "    </tr>\n",
              "    <tr>\n",
              "      <th>4216</th>\n",
              "      <td>350.0</td>\n",
              "      <td>8.0</td>\n",
              "    </tr>\n",
              "    <tr>\n",
              "      <th>4257</th>\n",
              "      <td>400.0</td>\n",
              "      <td>6.0</td>\n",
              "    </tr>\n",
              "    <tr>\n",
              "      <th>4259</th>\n",
              "      <td>276.0</td>\n",
              "      <td>6.0</td>\n",
              "    </tr>\n",
              "    <tr>\n",
              "      <th>4262</th>\n",
              "      <td>345.0</td>\n",
              "      <td>6.0</td>\n",
              "    </tr>\n",
              "    <tr>\n",
              "      <th>4292</th>\n",
              "      <td>257.0</td>\n",
              "      <td>4.0</td>\n",
              "    </tr>\n",
              "    <tr>\n",
              "      <th>4293</th>\n",
              "      <td>240.0</td>\n",
              "      <td>4.0</td>\n",
              "    </tr>\n",
              "  </tbody>\n",
              "</table>\n",
              "</div>\n",
              "      <button class=\"colab-df-convert\" onclick=\"convertToInteractive('df-8aa0a406-a54d-44f9-9c51-07d02440aa48')\"\n",
              "              title=\"Convert this dataframe to an interactive table.\"\n",
              "              style=\"display:none;\">\n",
              "        \n",
              "  <svg xmlns=\"http://www.w3.org/2000/svg\" height=\"24px\"viewBox=\"0 0 24 24\"\n",
              "       width=\"24px\">\n",
              "    <path d=\"M0 0h24v24H0V0z\" fill=\"none\"/>\n",
              "    <path d=\"M18.56 5.44l.94 2.06.94-2.06 2.06-.94-2.06-.94-.94-2.06-.94 2.06-2.06.94zm-11 1L8.5 8.5l.94-2.06 2.06-.94-2.06-.94L8.5 2.5l-.94 2.06-2.06.94zm10 10l.94 2.06.94-2.06 2.06-.94-2.06-.94-.94-2.06-.94 2.06-2.06.94z\"/><path d=\"M17.41 7.96l-1.37-1.37c-.4-.4-.92-.59-1.43-.59-.52 0-1.04.2-1.43.59L10.3 9.45l-7.72 7.72c-.78.78-.78 2.05 0 2.83L4 21.41c.39.39.9.59 1.41.59.51 0 1.02-.2 1.41-.59l7.78-7.78 2.81-2.81c.8-.78.8-2.07 0-2.86zM5.41 20L4 18.59l7.72-7.72 1.47 1.35L5.41 20z\"/>\n",
              "  </svg>\n",
              "      </button>\n",
              "      \n",
              "  <style>\n",
              "    .colab-df-container {\n",
              "      display:flex;\n",
              "      flex-wrap:wrap;\n",
              "      gap: 12px;\n",
              "    }\n",
              "\n",
              "    .colab-df-convert {\n",
              "      background-color: #E8F0FE;\n",
              "      border: none;\n",
              "      border-radius: 50%;\n",
              "      cursor: pointer;\n",
              "      display: none;\n",
              "      fill: #1967D2;\n",
              "      height: 32px;\n",
              "      padding: 0 0 0 0;\n",
              "      width: 32px;\n",
              "    }\n",
              "\n",
              "    .colab-df-convert:hover {\n",
              "      background-color: #E2EBFA;\n",
              "      box-shadow: 0px 1px 2px rgba(60, 64, 67, 0.3), 0px 1px 3px 1px rgba(60, 64, 67, 0.15);\n",
              "      fill: #174EA6;\n",
              "    }\n",
              "\n",
              "    [theme=dark] .colab-df-convert {\n",
              "      background-color: #3B4455;\n",
              "      fill: #D2E3FC;\n",
              "    }\n",
              "\n",
              "    [theme=dark] .colab-df-convert:hover {\n",
              "      background-color: #434B5C;\n",
              "      box-shadow: 0px 1px 3px 1px rgba(0, 0, 0, 0.15);\n",
              "      filter: drop-shadow(0px 1px 2px rgba(0, 0, 0, 0.3));\n",
              "      fill: #FFFFFF;\n",
              "    }\n",
              "  </style>\n",
              "\n",
              "      <script>\n",
              "        const buttonEl =\n",
              "          document.querySelector('#df-8aa0a406-a54d-44f9-9c51-07d02440aa48 button.colab-df-convert');\n",
              "        buttonEl.style.display =\n",
              "          google.colab.kernel.accessAllowed ? 'block' : 'none';\n",
              "\n",
              "        async function convertToInteractive(key) {\n",
              "          const element = document.querySelector('#df-8aa0a406-a54d-44f9-9c51-07d02440aa48');\n",
              "          const dataTable =\n",
              "            await google.colab.kernel.invokeFunction('convertToInteractive',\n",
              "                                                     [key], {});\n",
              "          if (!dataTable) return;\n",
              "\n",
              "          const docLinkHtml = 'Like what you see? Visit the ' +\n",
              "            '<a target=\"_blank\" href=https://colab.research.google.com/notebooks/data_table.ipynb>data table notebook</a>'\n",
              "            + ' to learn more about interactive tables.';\n",
              "          element.innerHTML = '';\n",
              "          dataTable['output_type'] = 'display_data';\n",
              "          await google.colab.output.renderOutput(dataTable, element);\n",
              "          const docLink = document.createElement('div');\n",
              "          docLink.innerHTML = docLinkHtml;\n",
              "          element.appendChild(docLink);\n",
              "        }\n",
              "      </script>\n",
              "    </div>\n",
              "  </div>\n",
              "  "
            ]
          },
          "metadata": {},
          "execution_count": 41
        }
      ]
    },
    {
      "cell_type": "markdown",
      "source": [
        "##7.4 Get the underlying NumPy array. Let's call it X"
      ],
      "metadata": {
        "id": "ZZojgMBPZfyB"
      }
    },
    {
      "cell_type": "code",
      "source": [
        "X = lotus.to_numpy()\n",
        "X"
      ],
      "metadata": {
        "colab": {
          "base_uri": "https://localhost:8080/"
        },
        "id": "XC0kczddZaR3",
        "outputId": "387b54c5-1cc9-4a47-b809-5944326d6f53"
      },
      "execution_count": 42,
      "outputs": [
        {
          "output_type": "execute_result",
          "data": {
            "text/plain": [
              "array([[189.,   4.],\n",
              "       [218.,   4.],\n",
              "       [217.,   4.],\n",
              "       [350.,   8.],\n",
              "       [400.,   6.],\n",
              "       [276.,   6.],\n",
              "       [345.,   6.],\n",
              "       [257.,   4.],\n",
              "       [240.,   4.]])"
            ]
          },
          "metadata": {},
          "execution_count": 42
        }
      ]
    },
    {
      "cell_type": "markdown",
      "source": [
        "##7.5 Compute matrix-matrix multiplication between the transpose of X and X."
      ],
      "metadata": {
        "id": "85l9Ki7KZwIH"
      }
    },
    {
      "cell_type": "code",
      "source": [
        "XTX = X.T @ X\n",
        "XTX"
      ],
      "metadata": {
        "colab": {
          "base_uri": "https://localhost:8080/"
        },
        "id": "nxTnEZezZpZ7",
        "outputId": "b7a70cb2-cbaa-41f2-b8d1-af83c23b6b4d"
      },
      "execution_count": 48,
      "outputs": [
        {
          "output_type": "execute_result",
          "data": {
            "text/plain": [
              "array([[7.31684e+05, 1.34100e+04],\n",
              "       [1.34100e+04, 2.52000e+02]])"
            ]
          },
          "metadata": {},
          "execution_count": 48
        }
      ]
    },
    {
      "cell_type": "markdown",
      "source": [
        "##7.6 Compute the inverse of XTX."
      ],
      "metadata": {
        "id": "7mtmc33RbT-v"
      }
    },
    {
      "cell_type": "code",
      "source": [
        "XTX_inv = np.linalg.inv(XTX)\n",
        "XTX_inv"
      ],
      "metadata": {
        "colab": {
          "base_uri": "https://localhost:8080/"
        },
        "id": "7gYYq7tlagvW",
        "outputId": "fe144a6f-9dd2-4e26-a92b-904672bd33f3"
      },
      "execution_count": 49,
      "outputs": [
        {
          "output_type": "execute_result",
          "data": {
            "text/plain": [
              "array([[ 5.53084235e-05, -2.94319825e-03],\n",
              "       [-2.94319825e-03,  1.60588447e-01]])"
            ]
          },
          "metadata": {},
          "execution_count": 49
        }
      ]
    },
    {
      "cell_type": "markdown",
      "source": [
        "##7.7 Create an array y with values [1100, 800, 750, 850, 1300, 1000, 1000, 1300, 800]."
      ],
      "metadata": {
        "id": "M5cpqyq7bmef"
      }
    },
    {
      "cell_type": "code",
      "source": [
        "y = np.array([1100, 800, 750, 850, 1300, 1000, 1000, 1300, 800])\n",
        "y"
      ],
      "metadata": {
        "colab": {
          "base_uri": "https://localhost:8080/"
        },
        "id": "Euu3fGClbf_u",
        "outputId": "cbc4f87a-f84c-4ca8-8d22-d887fade3cee"
      },
      "execution_count": 51,
      "outputs": [
        {
          "output_type": "execute_result",
          "data": {
            "text/plain": [
              "array([1100,  800,  750,  850, 1300, 1000, 1000, 1300,  800])"
            ]
          },
          "metadata": {},
          "execution_count": 51
        }
      ]
    },
    {
      "cell_type": "markdown",
      "source": [
        "##7.8 Multiply the inverse of XTX with the transpose of X, and then multiply the result by y. Call the result w."
      ],
      "metadata": {
        "id": "XgMZlptxb2BT"
      }
    },
    {
      "cell_type": "code",
      "source": [
        "w = (XTX_inv @ X.T) @ y\n",
        "w"
      ],
      "metadata": {
        "colab": {
          "base_uri": "https://localhost:8080/"
        },
        "id": "PYW2KduRbvyV",
        "outputId": "3a32116c-7907-45bb-d058-1aca0df40273"
      },
      "execution_count": 52,
      "outputs": [
        {
          "output_type": "execute_result",
          "data": {
            "text/plain": [
              "array([  4.59494481, -63.56432501])"
            ]
          },
          "metadata": {},
          "execution_count": 52
        }
      ]
    },
    {
      "cell_type": "markdown",
      "source": [
        "##7.9 What's the value of the first element of w?"
      ],
      "metadata": {
        "id": "rD3iOdfecGTM"
      }
    },
    {
      "cell_type": "code",
      "source": [
        "w[0]"
      ],
      "metadata": {
        "colab": {
          "base_uri": "https://localhost:8080/"
        },
        "id": "QPeXi7AocBbD",
        "outputId": "b2c0e065-dcc5-440c-c22f-1b0d0d4de186"
      },
      "execution_count": 53,
      "outputs": [
        {
          "output_type": "execute_result",
          "data": {
            "text/plain": [
              "4.594944810094551"
            ]
          },
          "metadata": {},
          "execution_count": 53
        }
      ]
    },
    {
      "cell_type": "code",
      "source": [],
      "metadata": {
        "id": "19X4P9FocJl8"
      },
      "execution_count": null,
      "outputs": []
    }
  ]
}