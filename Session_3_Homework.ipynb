{
  "nbformat": 4,
  "nbformat_minor": 0,
  "metadata": {
    "colab": {
      "provenance": []
    },
    "kernelspec": {
      "name": "python3",
      "display_name": "Python 3"
    },
    "language_info": {
      "name": "python"
    }
  },
  "cells": [
    {
      "cell_type": "code",
      "execution_count": 1,
      "metadata": {
        "id": "YZ6bYCnsEf-e"
      },
      "outputs": [],
      "source": [
        "import numpy as np\n",
        "import pandas as pd\n",
        "import matplotlib.pyplot as plt\n",
        "import seaborn as sns"
      ]
    },
    {
      "cell_type": "code",
      "source": [
        "df = pd.read_csv('https://raw.githubusercontent.com/alexeygrigorev/datasets/master/housing.csv')"
      ],
      "metadata": {
        "id": "MIL9eChoGqiT"
      },
      "execution_count": 3,
      "outputs": []
    },
    {
      "cell_type": "code",
      "source": [
        "df.head()"
      ],
      "metadata": {
        "colab": {
          "base_uri": "https://localhost:8080/",
          "height": 268
        },
        "id": "7cOQw0suG1u5",
        "outputId": "adc94f42-2185-4be7-a761-d7ea1dda475a"
      },
      "execution_count": 4,
      "outputs": [
        {
          "output_type": "execute_result",
          "data": {
            "text/plain": [
              "   longitude  latitude  housing_median_age  total_rooms  total_bedrooms  \\\n",
              "0    -122.23     37.88                41.0        880.0           129.0   \n",
              "1    -122.22     37.86                21.0       7099.0          1106.0   \n",
              "2    -122.24     37.85                52.0       1467.0           190.0   \n",
              "3    -122.25     37.85                52.0       1274.0           235.0   \n",
              "4    -122.25     37.85                52.0       1627.0           280.0   \n",
              "\n",
              "   population  households  median_income  median_house_value ocean_proximity  \n",
              "0       322.0       126.0         8.3252            452600.0        NEAR BAY  \n",
              "1      2401.0      1138.0         8.3014            358500.0        NEAR BAY  \n",
              "2       496.0       177.0         7.2574            352100.0        NEAR BAY  \n",
              "3       558.0       219.0         5.6431            341300.0        NEAR BAY  \n",
              "4       565.0       259.0         3.8462            342200.0        NEAR BAY  "
            ],
            "text/html": [
              "\n",
              "  <div id=\"df-dd69bb69-4f35-4cc1-bc8a-ac45825fef4e\">\n",
              "    <div class=\"colab-df-container\">\n",
              "      <div>\n",
              "<style scoped>\n",
              "    .dataframe tbody tr th:only-of-type {\n",
              "        vertical-align: middle;\n",
              "    }\n",
              "\n",
              "    .dataframe tbody tr th {\n",
              "        vertical-align: top;\n",
              "    }\n",
              "\n",
              "    .dataframe thead th {\n",
              "        text-align: right;\n",
              "    }\n",
              "</style>\n",
              "<table border=\"1\" class=\"dataframe\">\n",
              "  <thead>\n",
              "    <tr style=\"text-align: right;\">\n",
              "      <th></th>\n",
              "      <th>longitude</th>\n",
              "      <th>latitude</th>\n",
              "      <th>housing_median_age</th>\n",
              "      <th>total_rooms</th>\n",
              "      <th>total_bedrooms</th>\n",
              "      <th>population</th>\n",
              "      <th>households</th>\n",
              "      <th>median_income</th>\n",
              "      <th>median_house_value</th>\n",
              "      <th>ocean_proximity</th>\n",
              "    </tr>\n",
              "  </thead>\n",
              "  <tbody>\n",
              "    <tr>\n",
              "      <th>0</th>\n",
              "      <td>-122.23</td>\n",
              "      <td>37.88</td>\n",
              "      <td>41.0</td>\n",
              "      <td>880.0</td>\n",
              "      <td>129.0</td>\n",
              "      <td>322.0</td>\n",
              "      <td>126.0</td>\n",
              "      <td>8.3252</td>\n",
              "      <td>452600.0</td>\n",
              "      <td>NEAR BAY</td>\n",
              "    </tr>\n",
              "    <tr>\n",
              "      <th>1</th>\n",
              "      <td>-122.22</td>\n",
              "      <td>37.86</td>\n",
              "      <td>21.0</td>\n",
              "      <td>7099.0</td>\n",
              "      <td>1106.0</td>\n",
              "      <td>2401.0</td>\n",
              "      <td>1138.0</td>\n",
              "      <td>8.3014</td>\n",
              "      <td>358500.0</td>\n",
              "      <td>NEAR BAY</td>\n",
              "    </tr>\n",
              "    <tr>\n",
              "      <th>2</th>\n",
              "      <td>-122.24</td>\n",
              "      <td>37.85</td>\n",
              "      <td>52.0</td>\n",
              "      <td>1467.0</td>\n",
              "      <td>190.0</td>\n",
              "      <td>496.0</td>\n",
              "      <td>177.0</td>\n",
              "      <td>7.2574</td>\n",
              "      <td>352100.0</td>\n",
              "      <td>NEAR BAY</td>\n",
              "    </tr>\n",
              "    <tr>\n",
              "      <th>3</th>\n",
              "      <td>-122.25</td>\n",
              "      <td>37.85</td>\n",
              "      <td>52.0</td>\n",
              "      <td>1274.0</td>\n",
              "      <td>235.0</td>\n",
              "      <td>558.0</td>\n",
              "      <td>219.0</td>\n",
              "      <td>5.6431</td>\n",
              "      <td>341300.0</td>\n",
              "      <td>NEAR BAY</td>\n",
              "    </tr>\n",
              "    <tr>\n",
              "      <th>4</th>\n",
              "      <td>-122.25</td>\n",
              "      <td>37.85</td>\n",
              "      <td>52.0</td>\n",
              "      <td>1627.0</td>\n",
              "      <td>280.0</td>\n",
              "      <td>565.0</td>\n",
              "      <td>259.0</td>\n",
              "      <td>3.8462</td>\n",
              "      <td>342200.0</td>\n",
              "      <td>NEAR BAY</td>\n",
              "    </tr>\n",
              "  </tbody>\n",
              "</table>\n",
              "</div>\n",
              "      <button class=\"colab-df-convert\" onclick=\"convertToInteractive('df-dd69bb69-4f35-4cc1-bc8a-ac45825fef4e')\"\n",
              "              title=\"Convert this dataframe to an interactive table.\"\n",
              "              style=\"display:none;\">\n",
              "        \n",
              "  <svg xmlns=\"http://www.w3.org/2000/svg\" height=\"24px\"viewBox=\"0 0 24 24\"\n",
              "       width=\"24px\">\n",
              "    <path d=\"M0 0h24v24H0V0z\" fill=\"none\"/>\n",
              "    <path d=\"M18.56 5.44l.94 2.06.94-2.06 2.06-.94-2.06-.94-.94-2.06-.94 2.06-2.06.94zm-11 1L8.5 8.5l.94-2.06 2.06-.94-2.06-.94L8.5 2.5l-.94 2.06-2.06.94zm10 10l.94 2.06.94-2.06 2.06-.94-2.06-.94-.94-2.06-.94 2.06-2.06.94z\"/><path d=\"M17.41 7.96l-1.37-1.37c-.4-.4-.92-.59-1.43-.59-.52 0-1.04.2-1.43.59L10.3 9.45l-7.72 7.72c-.78.78-.78 2.05 0 2.83L4 21.41c.39.39.9.59 1.41.59.51 0 1.02-.2 1.41-.59l7.78-7.78 2.81-2.81c.8-.78.8-2.07 0-2.86zM5.41 20L4 18.59l7.72-7.72 1.47 1.35L5.41 20z\"/>\n",
              "  </svg>\n",
              "      </button>\n",
              "      \n",
              "  <style>\n",
              "    .colab-df-container {\n",
              "      display:flex;\n",
              "      flex-wrap:wrap;\n",
              "      gap: 12px;\n",
              "    }\n",
              "\n",
              "    .colab-df-convert {\n",
              "      background-color: #E8F0FE;\n",
              "      border: none;\n",
              "      border-radius: 50%;\n",
              "      cursor: pointer;\n",
              "      display: none;\n",
              "      fill: #1967D2;\n",
              "      height: 32px;\n",
              "      padding: 0 0 0 0;\n",
              "      width: 32px;\n",
              "    }\n",
              "\n",
              "    .colab-df-convert:hover {\n",
              "      background-color: #E2EBFA;\n",
              "      box-shadow: 0px 1px 2px rgba(60, 64, 67, 0.3), 0px 1px 3px 1px rgba(60, 64, 67, 0.15);\n",
              "      fill: #174EA6;\n",
              "    }\n",
              "\n",
              "    [theme=dark] .colab-df-convert {\n",
              "      background-color: #3B4455;\n",
              "      fill: #D2E3FC;\n",
              "    }\n",
              "\n",
              "    [theme=dark] .colab-df-convert:hover {\n",
              "      background-color: #434B5C;\n",
              "      box-shadow: 0px 1px 3px 1px rgba(0, 0, 0, 0.15);\n",
              "      filter: drop-shadow(0px 1px 2px rgba(0, 0, 0, 0.3));\n",
              "      fill: #FFFFFF;\n",
              "    }\n",
              "  </style>\n",
              "\n",
              "      <script>\n",
              "        const buttonEl =\n",
              "          document.querySelector('#df-dd69bb69-4f35-4cc1-bc8a-ac45825fef4e button.colab-df-convert');\n",
              "        buttonEl.style.display =\n",
              "          google.colab.kernel.accessAllowed ? 'block' : 'none';\n",
              "\n",
              "        async function convertToInteractive(key) {\n",
              "          const element = document.querySelector('#df-dd69bb69-4f35-4cc1-bc8a-ac45825fef4e');\n",
              "          const dataTable =\n",
              "            await google.colab.kernel.invokeFunction('convertToInteractive',\n",
              "                                                     [key], {});\n",
              "          if (!dataTable) return;\n",
              "\n",
              "          const docLinkHtml = 'Like what you see? Visit the ' +\n",
              "            '<a target=\"_blank\" href=https://colab.research.google.com/notebooks/data_table.ipynb>data table notebook</a>'\n",
              "            + ' to learn more about interactive tables.';\n",
              "          element.innerHTML = '';\n",
              "          dataTable['output_type'] = 'display_data';\n",
              "          await google.colab.output.renderOutput(dataTable, element);\n",
              "          const docLink = document.createElement('div');\n",
              "          docLink.innerHTML = docLinkHtml;\n",
              "          element.appendChild(docLink);\n",
              "        }\n",
              "      </script>\n",
              "    </div>\n",
              "  </div>\n",
              "  "
            ]
          },
          "metadata": {},
          "execution_count": 4
        }
      ]
    },
    {
      "cell_type": "code",
      "source": [
        "df.isnull().sum()"
      ],
      "metadata": {
        "colab": {
          "base_uri": "https://localhost:8080/"
        },
        "id": "VkuZSrApG43A",
        "outputId": "a478a6b1-3f2a-47e5-897f-2494752c220a"
      },
      "execution_count": 5,
      "outputs": [
        {
          "output_type": "execute_result",
          "data": {
            "text/plain": [
              "longitude               0\n",
              "latitude                0\n",
              "housing_median_age      0\n",
              "total_rooms             0\n",
              "total_bedrooms        207\n",
              "population              0\n",
              "households              0\n",
              "median_income           0\n",
              "median_house_value      0\n",
              "ocean_proximity         0\n",
              "dtype: int64"
            ]
          },
          "metadata": {},
          "execution_count": 5
        }
      ]
    },
    {
      "cell_type": "code",
      "source": [
        "df['total_bedrooms'] = df['total_bedrooms'].fillna(df['total_bedrooms'].median())"
      ],
      "metadata": {
        "id": "7BQC15MgHWk2"
      },
      "execution_count": 6,
      "outputs": []
    },
    {
      "cell_type": "code",
      "source": [
        "df['rooms_per_household'] = df['total_rooms'] / df['households']"
      ],
      "metadata": {
        "id": "WIv7SiYnHfMm"
      },
      "execution_count": 7,
      "outputs": []
    },
    {
      "cell_type": "code",
      "source": [
        "df['bedrooms_per_room'] = df['total_bedrooms'] / df['total_rooms']"
      ],
      "metadata": {
        "id": "DHHtVSXrHrCo"
      },
      "execution_count": 8,
      "outputs": []
    },
    {
      "cell_type": "code",
      "source": [
        "df['population_per_household'] = df['population'] / df['households']"
      ],
      "metadata": {
        "id": "g2KDVpBxH0sf"
      },
      "execution_count": 9,
      "outputs": []
    },
    {
      "cell_type": "markdown",
      "source": [
        "#1. What is the most frequent observation (mode) for the column ocean_proximity?"
      ],
      "metadata": {
        "id": "_QkvGG29H_kt"
      }
    },
    {
      "cell_type": "code",
      "source": [
        "df.ocean_proximity.mode()"
      ],
      "metadata": {
        "colab": {
          "base_uri": "https://localhost:8080/"
        },
        "id": "xRoEzXyqH7Qk",
        "outputId": "02fdf804-e6a6-4ce7-8e81-9729209b9581"
      },
      "execution_count": 10,
      "outputs": [
        {
          "output_type": "execute_result",
          "data": {
            "text/plain": [
              "0    <1H OCEAN\n",
              "dtype: object"
            ]
          },
          "metadata": {},
          "execution_count": 10
        }
      ]
    },
    {
      "cell_type": "markdown",
      "source": [
        "#2\n",
        "\n",
        "- Create the correlation matrix for the numerical features of your train dataset.\n",
        " - In a correlation matrix, you compute the correlation coefficient between every pair of features in the dataset.\n",
        "- What are the two features that have the biggest correlation in this dataset?"
      ],
      "metadata": {
        "id": "8GcO-YziIgzn"
      }
    },
    {
      "cell_type": "code",
      "source": [
        "numeric = df.copy()\n",
        "numeric = df.drop(['ocean_proximity', 'median_house_value'], axis=1)\n",
        "numeric.describe()"
      ],
      "metadata": {
        "colab": {
          "base_uri": "https://localhost:8080/",
          "height": 361
        },
        "id": "1U9qycSBIKB_",
        "outputId": "fde5e430-6445-436c-c09e-7fc8524c79fa"
      },
      "execution_count": 11,
      "outputs": [
        {
          "output_type": "execute_result",
          "data": {
            "text/plain": [
              "          longitude      latitude  housing_median_age   total_rooms  \\\n",
              "count  20640.000000  20640.000000        20640.000000  20640.000000   \n",
              "mean    -119.569704     35.631861           28.639486   2635.763081   \n",
              "std        2.003532      2.135952           12.585558   2181.615252   \n",
              "min     -124.350000     32.540000            1.000000      2.000000   \n",
              "25%     -121.800000     33.930000           18.000000   1447.750000   \n",
              "50%     -118.490000     34.260000           29.000000   2127.000000   \n",
              "75%     -118.010000     37.710000           37.000000   3148.000000   \n",
              "max     -114.310000     41.950000           52.000000  39320.000000   \n",
              "\n",
              "       total_bedrooms    population    households  median_income  \\\n",
              "count    20640.000000  20640.000000  20640.000000   20640.000000   \n",
              "mean       536.838857   1425.476744    499.539680       3.870671   \n",
              "std        419.391878   1132.462122    382.329753       1.899822   \n",
              "min          1.000000      3.000000      1.000000       0.499900   \n",
              "25%        297.000000    787.000000    280.000000       2.563400   \n",
              "50%        435.000000   1166.000000    409.000000       3.534800   \n",
              "75%        643.250000   1725.000000    605.000000       4.743250   \n",
              "max       6445.000000  35682.000000   6082.000000      15.000100   \n",
              "\n",
              "       rooms_per_household  bedrooms_per_room  population_per_household  \n",
              "count         20640.000000       20640.000000              20640.000000  \n",
              "mean              5.429000           0.213794                  3.070655  \n",
              "std               2.474173           0.065248                 10.386050  \n",
              "min               0.846154           0.037151                  0.692308  \n",
              "25%               4.440716           0.175225                  2.429741  \n",
              "50%               5.229129           0.203159                  2.818116  \n",
              "75%               6.052381           0.240126                  3.282261  \n",
              "max             141.909091           2.824675               1243.333333  "
            ],
            "text/html": [
              "\n",
              "  <div id=\"df-034d9f1e-f737-44e3-a303-87c43c073439\">\n",
              "    <div class=\"colab-df-container\">\n",
              "      <div>\n",
              "<style scoped>\n",
              "    .dataframe tbody tr th:only-of-type {\n",
              "        vertical-align: middle;\n",
              "    }\n",
              "\n",
              "    .dataframe tbody tr th {\n",
              "        vertical-align: top;\n",
              "    }\n",
              "\n",
              "    .dataframe thead th {\n",
              "        text-align: right;\n",
              "    }\n",
              "</style>\n",
              "<table border=\"1\" class=\"dataframe\">\n",
              "  <thead>\n",
              "    <tr style=\"text-align: right;\">\n",
              "      <th></th>\n",
              "      <th>longitude</th>\n",
              "      <th>latitude</th>\n",
              "      <th>housing_median_age</th>\n",
              "      <th>total_rooms</th>\n",
              "      <th>total_bedrooms</th>\n",
              "      <th>population</th>\n",
              "      <th>households</th>\n",
              "      <th>median_income</th>\n",
              "      <th>rooms_per_household</th>\n",
              "      <th>bedrooms_per_room</th>\n",
              "      <th>population_per_household</th>\n",
              "    </tr>\n",
              "  </thead>\n",
              "  <tbody>\n",
              "    <tr>\n",
              "      <th>count</th>\n",
              "      <td>20640.000000</td>\n",
              "      <td>20640.000000</td>\n",
              "      <td>20640.000000</td>\n",
              "      <td>20640.000000</td>\n",
              "      <td>20640.000000</td>\n",
              "      <td>20640.000000</td>\n",
              "      <td>20640.000000</td>\n",
              "      <td>20640.000000</td>\n",
              "      <td>20640.000000</td>\n",
              "      <td>20640.000000</td>\n",
              "      <td>20640.000000</td>\n",
              "    </tr>\n",
              "    <tr>\n",
              "      <th>mean</th>\n",
              "      <td>-119.569704</td>\n",
              "      <td>35.631861</td>\n",
              "      <td>28.639486</td>\n",
              "      <td>2635.763081</td>\n",
              "      <td>536.838857</td>\n",
              "      <td>1425.476744</td>\n",
              "      <td>499.539680</td>\n",
              "      <td>3.870671</td>\n",
              "      <td>5.429000</td>\n",
              "      <td>0.213794</td>\n",
              "      <td>3.070655</td>\n",
              "    </tr>\n",
              "    <tr>\n",
              "      <th>std</th>\n",
              "      <td>2.003532</td>\n",
              "      <td>2.135952</td>\n",
              "      <td>12.585558</td>\n",
              "      <td>2181.615252</td>\n",
              "      <td>419.391878</td>\n",
              "      <td>1132.462122</td>\n",
              "      <td>382.329753</td>\n",
              "      <td>1.899822</td>\n",
              "      <td>2.474173</td>\n",
              "      <td>0.065248</td>\n",
              "      <td>10.386050</td>\n",
              "    </tr>\n",
              "    <tr>\n",
              "      <th>min</th>\n",
              "      <td>-124.350000</td>\n",
              "      <td>32.540000</td>\n",
              "      <td>1.000000</td>\n",
              "      <td>2.000000</td>\n",
              "      <td>1.000000</td>\n",
              "      <td>3.000000</td>\n",
              "      <td>1.000000</td>\n",
              "      <td>0.499900</td>\n",
              "      <td>0.846154</td>\n",
              "      <td>0.037151</td>\n",
              "      <td>0.692308</td>\n",
              "    </tr>\n",
              "    <tr>\n",
              "      <th>25%</th>\n",
              "      <td>-121.800000</td>\n",
              "      <td>33.930000</td>\n",
              "      <td>18.000000</td>\n",
              "      <td>1447.750000</td>\n",
              "      <td>297.000000</td>\n",
              "      <td>787.000000</td>\n",
              "      <td>280.000000</td>\n",
              "      <td>2.563400</td>\n",
              "      <td>4.440716</td>\n",
              "      <td>0.175225</td>\n",
              "      <td>2.429741</td>\n",
              "    </tr>\n",
              "    <tr>\n",
              "      <th>50%</th>\n",
              "      <td>-118.490000</td>\n",
              "      <td>34.260000</td>\n",
              "      <td>29.000000</td>\n",
              "      <td>2127.000000</td>\n",
              "      <td>435.000000</td>\n",
              "      <td>1166.000000</td>\n",
              "      <td>409.000000</td>\n",
              "      <td>3.534800</td>\n",
              "      <td>5.229129</td>\n",
              "      <td>0.203159</td>\n",
              "      <td>2.818116</td>\n",
              "    </tr>\n",
              "    <tr>\n",
              "      <th>75%</th>\n",
              "      <td>-118.010000</td>\n",
              "      <td>37.710000</td>\n",
              "      <td>37.000000</td>\n",
              "      <td>3148.000000</td>\n",
              "      <td>643.250000</td>\n",
              "      <td>1725.000000</td>\n",
              "      <td>605.000000</td>\n",
              "      <td>4.743250</td>\n",
              "      <td>6.052381</td>\n",
              "      <td>0.240126</td>\n",
              "      <td>3.282261</td>\n",
              "    </tr>\n",
              "    <tr>\n",
              "      <th>max</th>\n",
              "      <td>-114.310000</td>\n",
              "      <td>41.950000</td>\n",
              "      <td>52.000000</td>\n",
              "      <td>39320.000000</td>\n",
              "      <td>6445.000000</td>\n",
              "      <td>35682.000000</td>\n",
              "      <td>6082.000000</td>\n",
              "      <td>15.000100</td>\n",
              "      <td>141.909091</td>\n",
              "      <td>2.824675</td>\n",
              "      <td>1243.333333</td>\n",
              "    </tr>\n",
              "  </tbody>\n",
              "</table>\n",
              "</div>\n",
              "      <button class=\"colab-df-convert\" onclick=\"convertToInteractive('df-034d9f1e-f737-44e3-a303-87c43c073439')\"\n",
              "              title=\"Convert this dataframe to an interactive table.\"\n",
              "              style=\"display:none;\">\n",
              "        \n",
              "  <svg xmlns=\"http://www.w3.org/2000/svg\" height=\"24px\"viewBox=\"0 0 24 24\"\n",
              "       width=\"24px\">\n",
              "    <path d=\"M0 0h24v24H0V0z\" fill=\"none\"/>\n",
              "    <path d=\"M18.56 5.44l.94 2.06.94-2.06 2.06-.94-2.06-.94-.94-2.06-.94 2.06-2.06.94zm-11 1L8.5 8.5l.94-2.06 2.06-.94-2.06-.94L8.5 2.5l-.94 2.06-2.06.94zm10 10l.94 2.06.94-2.06 2.06-.94-2.06-.94-.94-2.06-.94 2.06-2.06.94z\"/><path d=\"M17.41 7.96l-1.37-1.37c-.4-.4-.92-.59-1.43-.59-.52 0-1.04.2-1.43.59L10.3 9.45l-7.72 7.72c-.78.78-.78 2.05 0 2.83L4 21.41c.39.39.9.59 1.41.59.51 0 1.02-.2 1.41-.59l7.78-7.78 2.81-2.81c.8-.78.8-2.07 0-2.86zM5.41 20L4 18.59l7.72-7.72 1.47 1.35L5.41 20z\"/>\n",
              "  </svg>\n",
              "      </button>\n",
              "      \n",
              "  <style>\n",
              "    .colab-df-container {\n",
              "      display:flex;\n",
              "      flex-wrap:wrap;\n",
              "      gap: 12px;\n",
              "    }\n",
              "\n",
              "    .colab-df-convert {\n",
              "      background-color: #E8F0FE;\n",
              "      border: none;\n",
              "      border-radius: 50%;\n",
              "      cursor: pointer;\n",
              "      display: none;\n",
              "      fill: #1967D2;\n",
              "      height: 32px;\n",
              "      padding: 0 0 0 0;\n",
              "      width: 32px;\n",
              "    }\n",
              "\n",
              "    .colab-df-convert:hover {\n",
              "      background-color: #E2EBFA;\n",
              "      box-shadow: 0px 1px 2px rgba(60, 64, 67, 0.3), 0px 1px 3px 1px rgba(60, 64, 67, 0.15);\n",
              "      fill: #174EA6;\n",
              "    }\n",
              "\n",
              "    [theme=dark] .colab-df-convert {\n",
              "      background-color: #3B4455;\n",
              "      fill: #D2E3FC;\n",
              "    }\n",
              "\n",
              "    [theme=dark] .colab-df-convert:hover {\n",
              "      background-color: #434B5C;\n",
              "      box-shadow: 0px 1px 3px 1px rgba(0, 0, 0, 0.15);\n",
              "      filter: drop-shadow(0px 1px 2px rgba(0, 0, 0, 0.3));\n",
              "      fill: #FFFFFF;\n",
              "    }\n",
              "  </style>\n",
              "\n",
              "      <script>\n",
              "        const buttonEl =\n",
              "          document.querySelector('#df-034d9f1e-f737-44e3-a303-87c43c073439 button.colab-df-convert');\n",
              "        buttonEl.style.display =\n",
              "          google.colab.kernel.accessAllowed ? 'block' : 'none';\n",
              "\n",
              "        async function convertToInteractive(key) {\n",
              "          const element = document.querySelector('#df-034d9f1e-f737-44e3-a303-87c43c073439');\n",
              "          const dataTable =\n",
              "            await google.colab.kernel.invokeFunction('convertToInteractive',\n",
              "                                                     [key], {});\n",
              "          if (!dataTable) return;\n",
              "\n",
              "          const docLinkHtml = 'Like what you see? Visit the ' +\n",
              "            '<a target=\"_blank\" href=https://colab.research.google.com/notebooks/data_table.ipynb>data table notebook</a>'\n",
              "            + ' to learn more about interactive tables.';\n",
              "          element.innerHTML = '';\n",
              "          dataTable['output_type'] = 'display_data';\n",
              "          await google.colab.output.renderOutput(dataTable, element);\n",
              "          const docLink = document.createElement('div');\n",
              "          docLink.innerHTML = docLinkHtml;\n",
              "          element.appendChild(docLink);\n",
              "        }\n",
              "      </script>\n",
              "    </div>\n",
              "  </div>\n",
              "  "
            ]
          },
          "metadata": {},
          "execution_count": 11
        }
      ]
    },
    {
      "cell_type": "code",
      "source": [
        "numeric.corr()"
      ],
      "metadata": {
        "colab": {
          "base_uri": "https://localhost:8080/",
          "height": 454
        },
        "id": "ODsJgcKvKTsy",
        "outputId": "b9f4d759-d5c4-467e-8387-7e08fc44b012"
      },
      "execution_count": 13,
      "outputs": [
        {
          "output_type": "execute_result",
          "data": {
            "text/plain": [
              "                          longitude  latitude  housing_median_age  \\\n",
              "longitude                  1.000000 -0.924664           -0.108197   \n",
              "latitude                  -0.924664  1.000000            0.011173   \n",
              "housing_median_age        -0.108197  0.011173            1.000000   \n",
              "total_rooms                0.044568 -0.036100           -0.361262   \n",
              "total_bedrooms             0.069120 -0.066484           -0.319026   \n",
              "population                 0.099773 -0.108785           -0.296244   \n",
              "households                 0.055310 -0.071035           -0.302916   \n",
              "median_income             -0.015176 -0.079809           -0.119034   \n",
              "rooms_per_household       -0.027540  0.106389           -0.153277   \n",
              "bedrooms_per_room          0.081205 -0.098619            0.135622   \n",
              "population_per_household   0.002476  0.002366            0.013191   \n",
              "\n",
              "                          total_rooms  total_bedrooms  population  households  \\\n",
              "longitude                    0.044568        0.069120    0.099773    0.055310   \n",
              "latitude                    -0.036100       -0.066484   -0.108785   -0.071035   \n",
              "housing_median_age          -0.361262       -0.319026   -0.296244   -0.302916   \n",
              "total_rooms                  1.000000        0.927058    0.857126    0.918484   \n",
              "total_bedrooms               0.927058        1.000000    0.873535    0.974366   \n",
              "population                   0.857126        0.873535    1.000000    0.907222   \n",
              "households                   0.918484        0.974366    0.907222    1.000000   \n",
              "median_income                0.198050       -0.007617    0.004834    0.013033   \n",
              "rooms_per_household          0.133798        0.001765   -0.072213   -0.080598   \n",
              "bedrooms_per_room           -0.187381        0.071649    0.010035    0.034498   \n",
              "population_per_household    -0.024581       -0.028325    0.069863   -0.027309   \n",
              "\n",
              "                          median_income  rooms_per_household  \\\n",
              "longitude                     -0.015176            -0.027540   \n",
              "latitude                      -0.079809             0.106389   \n",
              "housing_median_age            -0.119034            -0.153277   \n",
              "total_rooms                    0.198050             0.133798   \n",
              "total_bedrooms                -0.007617             0.001765   \n",
              "population                     0.004834            -0.072213   \n",
              "households                     0.013033            -0.080598   \n",
              "median_income                  1.000000             0.326895   \n",
              "rooms_per_household            0.326895             1.000000   \n",
              "bedrooms_per_room             -0.545298            -0.370308   \n",
              "population_per_household       0.018766            -0.004852   \n",
              "\n",
              "                          bedrooms_per_room  population_per_household  \n",
              "longitude                          0.081205                  0.002476  \n",
              "latitude                          -0.098619                  0.002366  \n",
              "housing_median_age                 0.135622                  0.013191  \n",
              "total_rooms                       -0.187381                 -0.024581  \n",
              "total_bedrooms                     0.071649                 -0.028325  \n",
              "population                         0.010035                  0.069863  \n",
              "households                         0.034498                 -0.027309  \n",
              "median_income                     -0.545298                  0.018766  \n",
              "rooms_per_household               -0.370308                 -0.004852  \n",
              "bedrooms_per_room                  1.000000                  0.002601  \n",
              "population_per_household           0.002601                  1.000000  "
            ],
            "text/html": [
              "\n",
              "  <div id=\"df-9d9bec63-409d-4698-a718-beb9c92da630\">\n",
              "    <div class=\"colab-df-container\">\n",
              "      <div>\n",
              "<style scoped>\n",
              "    .dataframe tbody tr th:only-of-type {\n",
              "        vertical-align: middle;\n",
              "    }\n",
              "\n",
              "    .dataframe tbody tr th {\n",
              "        vertical-align: top;\n",
              "    }\n",
              "\n",
              "    .dataframe thead th {\n",
              "        text-align: right;\n",
              "    }\n",
              "</style>\n",
              "<table border=\"1\" class=\"dataframe\">\n",
              "  <thead>\n",
              "    <tr style=\"text-align: right;\">\n",
              "      <th></th>\n",
              "      <th>longitude</th>\n",
              "      <th>latitude</th>\n",
              "      <th>housing_median_age</th>\n",
              "      <th>total_rooms</th>\n",
              "      <th>total_bedrooms</th>\n",
              "      <th>population</th>\n",
              "      <th>households</th>\n",
              "      <th>median_income</th>\n",
              "      <th>rooms_per_household</th>\n",
              "      <th>bedrooms_per_room</th>\n",
              "      <th>population_per_household</th>\n",
              "    </tr>\n",
              "  </thead>\n",
              "  <tbody>\n",
              "    <tr>\n",
              "      <th>longitude</th>\n",
              "      <td>1.000000</td>\n",
              "      <td>-0.924664</td>\n",
              "      <td>-0.108197</td>\n",
              "      <td>0.044568</td>\n",
              "      <td>0.069120</td>\n",
              "      <td>0.099773</td>\n",
              "      <td>0.055310</td>\n",
              "      <td>-0.015176</td>\n",
              "      <td>-0.027540</td>\n",
              "      <td>0.081205</td>\n",
              "      <td>0.002476</td>\n",
              "    </tr>\n",
              "    <tr>\n",
              "      <th>latitude</th>\n",
              "      <td>-0.924664</td>\n",
              "      <td>1.000000</td>\n",
              "      <td>0.011173</td>\n",
              "      <td>-0.036100</td>\n",
              "      <td>-0.066484</td>\n",
              "      <td>-0.108785</td>\n",
              "      <td>-0.071035</td>\n",
              "      <td>-0.079809</td>\n",
              "      <td>0.106389</td>\n",
              "      <td>-0.098619</td>\n",
              "      <td>0.002366</td>\n",
              "    </tr>\n",
              "    <tr>\n",
              "      <th>housing_median_age</th>\n",
              "      <td>-0.108197</td>\n",
              "      <td>0.011173</td>\n",
              "      <td>1.000000</td>\n",
              "      <td>-0.361262</td>\n",
              "      <td>-0.319026</td>\n",
              "      <td>-0.296244</td>\n",
              "      <td>-0.302916</td>\n",
              "      <td>-0.119034</td>\n",
              "      <td>-0.153277</td>\n",
              "      <td>0.135622</td>\n",
              "      <td>0.013191</td>\n",
              "    </tr>\n",
              "    <tr>\n",
              "      <th>total_rooms</th>\n",
              "      <td>0.044568</td>\n",
              "      <td>-0.036100</td>\n",
              "      <td>-0.361262</td>\n",
              "      <td>1.000000</td>\n",
              "      <td>0.927058</td>\n",
              "      <td>0.857126</td>\n",
              "      <td>0.918484</td>\n",
              "      <td>0.198050</td>\n",
              "      <td>0.133798</td>\n",
              "      <td>-0.187381</td>\n",
              "      <td>-0.024581</td>\n",
              "    </tr>\n",
              "    <tr>\n",
              "      <th>total_bedrooms</th>\n",
              "      <td>0.069120</td>\n",
              "      <td>-0.066484</td>\n",
              "      <td>-0.319026</td>\n",
              "      <td>0.927058</td>\n",
              "      <td>1.000000</td>\n",
              "      <td>0.873535</td>\n",
              "      <td>0.974366</td>\n",
              "      <td>-0.007617</td>\n",
              "      <td>0.001765</td>\n",
              "      <td>0.071649</td>\n",
              "      <td>-0.028325</td>\n",
              "    </tr>\n",
              "    <tr>\n",
              "      <th>population</th>\n",
              "      <td>0.099773</td>\n",
              "      <td>-0.108785</td>\n",
              "      <td>-0.296244</td>\n",
              "      <td>0.857126</td>\n",
              "      <td>0.873535</td>\n",
              "      <td>1.000000</td>\n",
              "      <td>0.907222</td>\n",
              "      <td>0.004834</td>\n",
              "      <td>-0.072213</td>\n",
              "      <td>0.010035</td>\n",
              "      <td>0.069863</td>\n",
              "    </tr>\n",
              "    <tr>\n",
              "      <th>households</th>\n",
              "      <td>0.055310</td>\n",
              "      <td>-0.071035</td>\n",
              "      <td>-0.302916</td>\n",
              "      <td>0.918484</td>\n",
              "      <td>0.974366</td>\n",
              "      <td>0.907222</td>\n",
              "      <td>1.000000</td>\n",
              "      <td>0.013033</td>\n",
              "      <td>-0.080598</td>\n",
              "      <td>0.034498</td>\n",
              "      <td>-0.027309</td>\n",
              "    </tr>\n",
              "    <tr>\n",
              "      <th>median_income</th>\n",
              "      <td>-0.015176</td>\n",
              "      <td>-0.079809</td>\n",
              "      <td>-0.119034</td>\n",
              "      <td>0.198050</td>\n",
              "      <td>-0.007617</td>\n",
              "      <td>0.004834</td>\n",
              "      <td>0.013033</td>\n",
              "      <td>1.000000</td>\n",
              "      <td>0.326895</td>\n",
              "      <td>-0.545298</td>\n",
              "      <td>0.018766</td>\n",
              "    </tr>\n",
              "    <tr>\n",
              "      <th>rooms_per_household</th>\n",
              "      <td>-0.027540</td>\n",
              "      <td>0.106389</td>\n",
              "      <td>-0.153277</td>\n",
              "      <td>0.133798</td>\n",
              "      <td>0.001765</td>\n",
              "      <td>-0.072213</td>\n",
              "      <td>-0.080598</td>\n",
              "      <td>0.326895</td>\n",
              "      <td>1.000000</td>\n",
              "      <td>-0.370308</td>\n",
              "      <td>-0.004852</td>\n",
              "    </tr>\n",
              "    <tr>\n",
              "      <th>bedrooms_per_room</th>\n",
              "      <td>0.081205</td>\n",
              "      <td>-0.098619</td>\n",
              "      <td>0.135622</td>\n",
              "      <td>-0.187381</td>\n",
              "      <td>0.071649</td>\n",
              "      <td>0.010035</td>\n",
              "      <td>0.034498</td>\n",
              "      <td>-0.545298</td>\n",
              "      <td>-0.370308</td>\n",
              "      <td>1.000000</td>\n",
              "      <td>0.002601</td>\n",
              "    </tr>\n",
              "    <tr>\n",
              "      <th>population_per_household</th>\n",
              "      <td>0.002476</td>\n",
              "      <td>0.002366</td>\n",
              "      <td>0.013191</td>\n",
              "      <td>-0.024581</td>\n",
              "      <td>-0.028325</td>\n",
              "      <td>0.069863</td>\n",
              "      <td>-0.027309</td>\n",
              "      <td>0.018766</td>\n",
              "      <td>-0.004852</td>\n",
              "      <td>0.002601</td>\n",
              "      <td>1.000000</td>\n",
              "    </tr>\n",
              "  </tbody>\n",
              "</table>\n",
              "</div>\n",
              "      <button class=\"colab-df-convert\" onclick=\"convertToInteractive('df-9d9bec63-409d-4698-a718-beb9c92da630')\"\n",
              "              title=\"Convert this dataframe to an interactive table.\"\n",
              "              style=\"display:none;\">\n",
              "        \n",
              "  <svg xmlns=\"http://www.w3.org/2000/svg\" height=\"24px\"viewBox=\"0 0 24 24\"\n",
              "       width=\"24px\">\n",
              "    <path d=\"M0 0h24v24H0V0z\" fill=\"none\"/>\n",
              "    <path d=\"M18.56 5.44l.94 2.06.94-2.06 2.06-.94-2.06-.94-.94-2.06-.94 2.06-2.06.94zm-11 1L8.5 8.5l.94-2.06 2.06-.94-2.06-.94L8.5 2.5l-.94 2.06-2.06.94zm10 10l.94 2.06.94-2.06 2.06-.94-2.06-.94-.94-2.06-.94 2.06-2.06.94z\"/><path d=\"M17.41 7.96l-1.37-1.37c-.4-.4-.92-.59-1.43-.59-.52 0-1.04.2-1.43.59L10.3 9.45l-7.72 7.72c-.78.78-.78 2.05 0 2.83L4 21.41c.39.39.9.59 1.41.59.51 0 1.02-.2 1.41-.59l7.78-7.78 2.81-2.81c.8-.78.8-2.07 0-2.86zM5.41 20L4 18.59l7.72-7.72 1.47 1.35L5.41 20z\"/>\n",
              "  </svg>\n",
              "      </button>\n",
              "      \n",
              "  <style>\n",
              "    .colab-df-container {\n",
              "      display:flex;\n",
              "      flex-wrap:wrap;\n",
              "      gap: 12px;\n",
              "    }\n",
              "\n",
              "    .colab-df-convert {\n",
              "      background-color: #E8F0FE;\n",
              "      border: none;\n",
              "      border-radius: 50%;\n",
              "      cursor: pointer;\n",
              "      display: none;\n",
              "      fill: #1967D2;\n",
              "      height: 32px;\n",
              "      padding: 0 0 0 0;\n",
              "      width: 32px;\n",
              "    }\n",
              "\n",
              "    .colab-df-convert:hover {\n",
              "      background-color: #E2EBFA;\n",
              "      box-shadow: 0px 1px 2px rgba(60, 64, 67, 0.3), 0px 1px 3px 1px rgba(60, 64, 67, 0.15);\n",
              "      fill: #174EA6;\n",
              "    }\n",
              "\n",
              "    [theme=dark] .colab-df-convert {\n",
              "      background-color: #3B4455;\n",
              "      fill: #D2E3FC;\n",
              "    }\n",
              "\n",
              "    [theme=dark] .colab-df-convert:hover {\n",
              "      background-color: #434B5C;\n",
              "      box-shadow: 0px 1px 3px 1px rgba(0, 0, 0, 0.15);\n",
              "      filter: drop-shadow(0px 1px 2px rgba(0, 0, 0, 0.3));\n",
              "      fill: #FFFFFF;\n",
              "    }\n",
              "  </style>\n",
              "\n",
              "      <script>\n",
              "        const buttonEl =\n",
              "          document.querySelector('#df-9d9bec63-409d-4698-a718-beb9c92da630 button.colab-df-convert');\n",
              "        buttonEl.style.display =\n",
              "          google.colab.kernel.accessAllowed ? 'block' : 'none';\n",
              "\n",
              "        async function convertToInteractive(key) {\n",
              "          const element = document.querySelector('#df-9d9bec63-409d-4698-a718-beb9c92da630');\n",
              "          const dataTable =\n",
              "            await google.colab.kernel.invokeFunction('convertToInteractive',\n",
              "                                                     [key], {});\n",
              "          if (!dataTable) return;\n",
              "\n",
              "          const docLinkHtml = 'Like what you see? Visit the ' +\n",
              "            '<a target=\"_blank\" href=https://colab.research.google.com/notebooks/data_table.ipynb>data table notebook</a>'\n",
              "            + ' to learn more about interactive tables.';\n",
              "          element.innerHTML = '';\n",
              "          dataTable['output_type'] = 'display_data';\n",
              "          await google.colab.output.renderOutput(dataTable, element);\n",
              "          const docLink = document.createElement('div');\n",
              "          docLink.innerHTML = docLinkHtml;\n",
              "          element.appendChild(docLink);\n",
              "        }\n",
              "      </script>\n",
              "    </div>\n",
              "  </div>\n",
              "  "
            ]
          },
          "metadata": {},
          "execution_count": 13
        }
      ]
    },
    {
      "cell_type": "code",
      "source": [
        "plt.figure(figsize=(15,10))\n",
        "sns.heatmap(numeric.corr(), annot=True)\n",
        "plt.show()"
      ],
      "metadata": {
        "colab": {
          "base_uri": "https://localhost:8080/",
          "height": 717
        },
        "id": "WcsjzusLKqYN",
        "outputId": "f322d686-a8ff-4722-dde7-dfba7714caa1"
      },
      "execution_count": 14,
      "outputs": [
        {
          "output_type": "display_data",
          "data": {
            "text/plain": [
              "<Figure size 1080x720 with 2 Axes>"
            ],
            "image/png": "[encoded data removed]"
          },
          "metadata": {
            "needs_background": "light"
          }
        }
      ]
    },
    {
      "cell_type": "code",
      "source": [
        "numeric.corr().unstack().sort_values(ascending=False)[:15]"
      ],
      "metadata": {
        "colab": {
          "base_uri": "https://localhost:8080/"
        },
        "id": "WSq4bTPwLM2h",
        "outputId": "eac17f4f-33ba-43aa-882b-3449d8ae6f99"
      },
      "execution_count": 15,
      "outputs": [
        {
          "output_type": "execute_result",
          "data": {
            "text/plain": [
              "longitude                 longitude                   1.000000\n",
              "latitude                  latitude                    1.000000\n",
              "bedrooms_per_room         bedrooms_per_room           1.000000\n",
              "rooms_per_household       rooms_per_household         1.000000\n",
              "median_income             median_income               1.000000\n",
              "households                households                  1.000000\n",
              "total_bedrooms            total_bedrooms              1.000000\n",
              "total_rooms               total_rooms                 1.000000\n",
              "housing_median_age        housing_median_age          1.000000\n",
              "population                population                  1.000000\n",
              "population_per_household  population_per_household    1.000000\n",
              "total_bedrooms            households                  0.974366\n",
              "households                total_bedrooms              0.974366\n",
              "total_bedrooms            total_rooms                 0.927058\n",
              "total_rooms               total_bedrooms              0.927058\n",
              "dtype: float64"
            ]
          },
          "metadata": {},
          "execution_count": 15
        }
      ]
    },
    {
      "cell_type": "markdown",
      "source": [
        "Answer for Q2 is total_bedrooms vs households"
      ],
      "metadata": {
        "id": "TsQfHUISLsrx"
      }
    },
    {
      "cell_type": "code",
      "source": [
        "df_class = df.copy()"
      ],
      "metadata": {
        "id": "oKCJ7fo0Lm6Y"
      },
      "execution_count": 16,
      "outputs": []
    },
    {
      "cell_type": "code",
      "source": [
        "mean = df_class['median_house_value'].mean()\n",
        "df_class['above_average'] = np.where(df_class['median_house_value'] >= mean, 1, 0)"
      ],
      "metadata": {
        "id": "BAE1ka_yMoqt"
      },
      "execution_count": 18,
      "outputs": []
    },
    {
      "cell_type": "code",
      "source": [
        "from sklearn.model_selection import train_test_split\n",
        "from sklearn.linear_model import LogisticRegression\n",
        "from sklearn.linear_model import Ridge\n",
        "from sklearn.metrics import mean_squared_error\n",
        "from sklearn.metrics import accuracy_score\n",
        "from sklearn.metrics import mutual_info_score\n",
        "from sklearn.feature_extraction import DictVectorizer"
      ],
      "metadata": {
        "id": "YrwpDm9eND9_"
      },
      "execution_count": 19,
      "outputs": []
    },
    {
      "cell_type": "code",
      "source": [
        "df_class = df_class.drop('median_house_value', axis=1)"
      ],
      "metadata": {
        "id": "nxeEQzKYN7ag"
      },
      "execution_count": 21,
      "outputs": []
    },
    {
      "cell_type": "code",
      "source": [
        "df_full_train, df_test = train_test_split(df_class, test_size=0.2, random_state=42)\n",
        "df_train, df_val = train_test_split(df_full_train, test_size=0.25, random_state=42)"
      ],
      "metadata": {
        "id": "GE76qOk8Nuhy"
      },
      "execution_count": 22,
      "outputs": []
    },
    {
      "cell_type": "code",
      "source": [
        "df_train = df_train.reset_index(drop=True)\n",
        "df_val = df_val.reset_index(drop=True)\n",
        "df_test = df_test.reset_index(drop=True)"
      ],
      "metadata": {
        "id": "9v1tjJ9HObom"
      },
      "execution_count": 23,
      "outputs": []
    },
    {
      "cell_type": "code",
      "source": [
        "y_train = df_train.above_average.values\n",
        "y_val = df_val.above_average.values\n",
        "y_test = df_test.above_average.values"
      ],
      "metadata": {
        "id": "Y2hDhYiNOpJZ"
      },
      "execution_count": 24,
      "outputs": []
    },
    {
      "cell_type": "markdown",
      "source": [
        "#3\n",
        "\n",
        "- Calculate the mutual information score between above_average and ocean_proximity . Use the training set only.\n",
        "- Round it to 2 decimals using round(score, 2)\n",
        "- What is their mutual information score?"
      ],
      "metadata": {
        "id": "1LJ-I7PBPYRC"
      }
    },
    {
      "cell_type": "code",
      "source": [
        "def calculate_mi(series):\n",
        "    return mutual_info_score(series, df_train.above_average)"
      ],
      "metadata": {
        "id": "e5XFzqcrO4Bl"
      },
      "execution_count": 25,
      "outputs": []
    },
    {
      "cell_type": "code",
      "source": [
        "df_mi = df_train[['ocean_proximity']].apply(calculate_mi)\n",
        "df_mi.round(2)"
      ],
      "metadata": {
        "colab": {
          "base_uri": "https://localhost:8080/"
        },
        "id": "9pLsMnXvRoQe",
        "outputId": "3a30a63e-28c2-458f-9a23-1a125d837a58"
      },
      "execution_count": 33,
      "outputs": [
        {
          "output_type": "execute_result",
          "data": {
            "text/plain": [
              "ocean_proximity    0.1\n",
              "dtype: float64"
            ]
          },
          "metadata": {},
          "execution_count": 33
        }
      ]
    },
    {
      "cell_type": "markdown",
      "source": [
        "#4\n",
        "\n",
        "- Now let's train a logistic regression\n",
        "- Remember that we have one categorical variable ocean_proximity in the data. Include it using one-hot encoding.\n",
        "- Fit the model on the training dataset.\n",
        "To make sure the results are reproducible across different versions of Scikit-Learn, fit the model with these parameters:\n",
        "model = LogisticRegression(solver=\"liblinear\", C=1.0, max_iter=1000, random_state=42)\n",
        "- Calculate the accuracy on the validation dataset and round it to 2 decimal digits."
      ],
      "metadata": {
        "id": "LcYepsPWS63s"
      }
    },
    {
      "cell_type": "code",
      "source": [
        "df_train = df_train.drop('above_average', axis=1)\n",
        "df_val = df_val.drop('above_average', axis=1)\n",
        "df_test = df_test.drop('above_average', axis=1)"
      ],
      "metadata": {
        "id": "0XWiFI1YR796"
      },
      "execution_count": 34,
      "outputs": []
    },
    {
      "cell_type": "code",
      "source": [
        "df_train.head()"
      ],
      "metadata": {
        "colab": {
          "base_uri": "https://localhost:8080/",
          "height": 268
        },
        "id": "HJqr1by-Tu2U",
        "outputId": "cc65ef3c-99d8-48ff-b86b-7e00b887b337"
      },
      "execution_count": 35,
      "outputs": [
        {
          "output_type": "execute_result",
          "data": {
            "text/plain": [
              "   longitude  latitude  housing_median_age  total_rooms  total_bedrooms  \\\n",
              "0    -119.67     34.43                39.0       1467.0           381.0   \n",
              "1    -118.32     33.74                24.0       6097.0           794.0   \n",
              "2    -121.62     39.13                41.0       1317.0           309.0   \n",
              "3    -118.63     34.24                 9.0       4759.0           924.0   \n",
              "4    -122.30     37.52                38.0       2769.0           387.0   \n",
              "\n",
              "   population  households  median_income ocean_proximity  rooms_per_household  \\\n",
              "0      1404.0       374.0         2.3681       <1H OCEAN             3.922460   \n",
              "1      2248.0       806.0        10.1357      NEAR OCEAN             7.564516   \n",
              "2       856.0       337.0         1.6719          INLAND             3.908012   \n",
              "3      1884.0       915.0         4.8333       <1H OCEAN             5.201093   \n",
              "4       994.0       395.0         5.5902      NEAR OCEAN             7.010127   \n",
              "\n",
              "   bedrooms_per_room  population_per_household  \n",
              "0           0.259714                  3.754011  \n",
              "1           0.130228                  2.789082  \n",
              "2           0.234624                  2.540059  \n",
              "3           0.194158                  2.059016  \n",
              "4           0.139762                  2.516456  "
            ],
            "text/html": [
              "\n",
              "  <div id=\"df-9cbbadbc-5595-4972-abf8-aa1e52610c52\">\n",
              "    <div class=\"colab-df-container\">\n",
              "      <div>\n",
              "<style scoped>\n",
              "    .dataframe tbody tr th:only-of-type {\n",
              "        vertical-align: middle;\n",
              "    }\n",
              "\n",
              "    .dataframe tbody tr th {\n",
              "        vertical-align: top;\n",
              "    }\n",
              "\n",
              "    .dataframe thead th {\n",
              "        text-align: right;\n",
              "    }\n",
              "</style>\n",
              "<table border=\"1\" class=\"dataframe\">\n",
              "  <thead>\n",
              "    <tr style=\"text-align: right;\">\n",
              "      <th></th>\n",
              "      <th>longitude</th>\n",
              "      <th>latitude</th>\n",
              "      <th>housing_median_age</th>\n",
              "      <th>total_rooms</th>\n",
              "      <th>total_bedrooms</th>\n",
              "      <th>population</th>\n",
              "      <th>households</th>\n",
              "      <th>median_income</th>\n",
              "      <th>ocean_proximity</th>\n",
              "      <th>rooms_per_household</th>\n",
              "      <th>bedrooms_per_room</th>\n",
              "      <th>population_per_household</th>\n",
              "    </tr>\n",
              "  </thead>\n",
              "  <tbody>\n",
              "    <tr>\n",
              "      <th>0</th>\n",
              "      <td>-119.67</td>\n",
              "      <td>34.43</td>\n",
              "      <td>39.0</td>\n",
              "      <td>1467.0</td>\n",
              "      <td>381.0</td>\n",
              "      <td>1404.0</td>\n",
              "      <td>374.0</td>\n",
              "      <td>2.3681</td>\n",
              "      <td>&lt;1H OCEAN</td>\n",
              "      <td>3.922460</td>\n",
              "      <td>0.259714</td>\n",
              "      <td>3.754011</td>\n",
              "    </tr>\n",
              "    <tr>\n",
              "      <th>1</th>\n",
              "      <td>-118.32</td>\n",
              "      <td>33.74</td>\n",
              "      <td>24.0</td>\n",
              "      <td>6097.0</td>\n",
              "      <td>794.0</td>\n",
              "      <td>2248.0</td>\n",
              "      <td>806.0</td>\n",
              "      <td>10.1357</td>\n",
              "      <td>NEAR OCEAN</td>\n",
              "      <td>7.564516</td>\n",
              "      <td>0.130228</td>\n",
              "      <td>2.789082</td>\n",
              "    </tr>\n",
              "    <tr>\n",
              "      <th>2</th>\n",
              "      <td>-121.62</td>\n",
              "      <td>39.13</td>\n",
              "      <td>41.0</td>\n",
              "      <td>1317.0</td>\n",
              "      <td>309.0</td>\n",
              "      <td>856.0</td>\n",
              "      <td>337.0</td>\n",
              "      <td>1.6719</td>\n",
              "      <td>INLAND</td>\n",
              "      <td>3.908012</td>\n",
              "      <td>0.234624</td>\n",
              "      <td>2.540059</td>\n",
              "    </tr>\n",
              "    <tr>\n",
              "      <th>3</th>\n",
              "      <td>-118.63</td>\n",
              "      <td>34.24</td>\n",
              "      <td>9.0</td>\n",
              "      <td>4759.0</td>\n",
              "      <td>924.0</td>\n",
              "      <td>1884.0</td>\n",
              "      <td>915.0</td>\n",
              "      <td>4.8333</td>\n",
              "      <td>&lt;1H OCEAN</td>\n",
              "      <td>5.201093</td>\n",
              "      <td>0.194158</td>\n",
              "      <td>2.059016</td>\n",
              "    </tr>\n",
              "    <tr>\n",
              "      <th>4</th>\n",
              "      <td>-122.30</td>\n",
              "      <td>37.52</td>\n",
              "      <td>38.0</td>\n",
              "      <td>2769.0</td>\n",
              "      <td>387.0</td>\n",
              "      <td>994.0</td>\n",
              "      <td>395.0</td>\n",
              "      <td>5.5902</td>\n",
              "      <td>NEAR OCEAN</td>\n",
              "      <td>7.010127</td>\n",
              "      <td>0.139762</td>\n",
              "      <td>2.516456</td>\n",
              "    </tr>\n",
              "  </tbody>\n",
              "</table>\n",
              "</div>\n",
              "      <button class=\"colab-df-convert\" onclick=\"convertToInteractive('df-9cbbadbc-5595-4972-abf8-aa1e52610c52')\"\n",
              "              title=\"Convert this dataframe to an interactive table.\"\n",
              "              style=\"display:none;\">\n",
              "        \n",
              "  <svg xmlns=\"http://www.w3.org/2000/svg\" height=\"24px\"viewBox=\"0 0 24 24\"\n",
              "       width=\"24px\">\n",
              "    <path d=\"M0 0h24v24H0V0z\" fill=\"none\"/>\n",
              "    <path d=\"M18.56 5.44l.94 2.06.94-2.06 2.06-.94-2.06-.94-.94-2.06-.94 2.06-2.06.94zm-11 1L8.5 8.5l.94-2.06 2.06-.94-2.06-.94L8.5 2.5l-.94 2.06-2.06.94zm10 10l.94 2.06.94-2.06 2.06-.94-2.06-.94-.94-2.06-.94 2.06-2.06.94z\"/><path d=\"M17.41 7.96l-1.37-1.37c-.4-.4-.92-.59-1.43-.59-.52 0-1.04.2-1.43.59L10.3 9.45l-7.72 7.72c-.78.78-.78 2.05 0 2.83L4 21.41c.39.39.9.59 1.41.59.51 0 1.02-.2 1.41-.59l7.78-7.78 2.81-2.81c.8-.78.8-2.07 0-2.86zM5.41 20L4 18.59l7.72-7.72 1.47 1.35L5.41 20z\"/>\n",
              "  </svg>\n",
              "      </button>\n",
              "      \n",
              "  <style>\n",
              "    .colab-df-container {\n",
              "      display:flex;\n",
              "      flex-wrap:wrap;\n",
              "      gap: 12px;\n",
              "    }\n",
              "\n",
              "    .colab-df-convert {\n",
              "      background-color: #E8F0FE;\n",
              "      border: none;\n",
              "      border-radius: 50%;\n",
              "      cursor: pointer;\n",
              "      display: none;\n",
              "      fill: #1967D2;\n",
              "      height: 32px;\n",
              "      padding: 0 0 0 0;\n",
              "      width: 32px;\n",
              "    }\n",
              "\n",
              "    .colab-df-convert:hover {\n",
              "      background-color: #E2EBFA;\n",
              "      box-shadow: 0px 1px 2px rgba(60, 64, 67, 0.3), 0px 1px 3px 1px rgba(60, 64, 67, 0.15);\n",
              "      fill: #174EA6;\n",
              "    }\n",
              "\n",
              "    [theme=dark] .colab-df-convert {\n",
              "      background-color: #3B4455;\n",
              "      fill: #D2E3FC;\n",
              "    }\n",
              "\n",
              "    [theme=dark] .colab-df-convert:hover {\n",
              "      background-color: #434B5C;\n",
              "      box-shadow: 0px 1px 3px 1px rgba(0, 0, 0, 0.15);\n",
              "      filter: drop-shadow(0px 1px 2px rgba(0, 0, 0, 0.3));\n",
              "      fill: #FFFFFF;\n",
              "    }\n",
              "  </style>\n",
              "\n",
              "      <script>\n",
              "        const buttonEl =\n",
              "          document.querySelector('#df-9cbbadbc-5595-4972-abf8-aa1e52610c52 button.colab-df-convert');\n",
              "        buttonEl.style.display =\n",
              "          google.colab.kernel.accessAllowed ? 'block' : 'none';\n",
              "\n",
              "        async function convertToInteractive(key) {\n",
              "          const element = document.querySelector('#df-9cbbadbc-5595-4972-abf8-aa1e52610c52');\n",
              "          const dataTable =\n",
              "            await google.colab.kernel.invokeFunction('convertToInteractive',\n",
              "                                                     [key], {});\n",
              "          if (!dataTable) return;\n",
              "\n",
              "          const docLinkHtml = 'Like what you see? Visit the ' +\n",
              "            '<a target=\"_blank\" href=https://colab.research.google.com/notebooks/data_table.ipynb>data table notebook</a>'\n",
              "            + ' to learn more about interactive tables.';\n",
              "          element.innerHTML = '';\n",
              "          dataTable['output_type'] = 'display_data';\n",
              "          await google.colab.output.renderOutput(dataTable, element);\n",
              "          const docLink = document.createElement('div');\n",
              "          docLink.innerHTML = docLinkHtml;\n",
              "          element.appendChild(docLink);\n",
              "        }\n",
              "      </script>\n",
              "    </div>\n",
              "  </div>\n",
              "  "
            ]
          },
          "metadata": {},
          "execution_count": 35
        }
      ]
    },
    {
      "cell_type": "code",
      "source": [
        "dict_train = df_train.to_dict(orient='records')\n",
        "\n",
        "dv = DictVectorizer(sparse=False)\n",
        "dv.fit(dict_train)\n",
        "X_train = dv.transform(dict_train)"
      ],
      "metadata": {
        "id": "v3ouqoJeT0QT"
      },
      "execution_count": 36,
      "outputs": []
    },
    {
      "cell_type": "code",
      "source": [
        "model = LogisticRegression(solver=\"liblinear\", C=1.0, max_iter=1000, random_state=42)\n",
        "model.fit(X_train, y_train)\n",
        "\n",
        "dict_val = df_val.to_dict(orient='records')\n",
        "X_val = dv.transform(dict_val)\n",
        "y_pred = model.predict(X_val)"
      ],
      "metadata": {
        "id": "Kf2G2qAGUY4y"
      },
      "execution_count": 37,
      "outputs": []
    },
    {
      "cell_type": "code",
      "source": [
        "accuracy = np.round(accuracy_score(y_val, y_pred), 2)\n",
        "accuracy"
      ],
      "metadata": {
        "colab": {
          "base_uri": "https://localhost:8080/"
        },
        "id": "7GlJCFYMVYNV",
        "outputId": "fac1d6bc-39bc-4782-adc5-b4b076585cea"
      },
      "execution_count": 39,
      "outputs": [
        {
          "output_type": "execute_result",
          "data": {
            "text/plain": [
              "0.84"
            ]
          },
          "metadata": {},
          "execution_count": 39
        }
      ]
    },
    {
      "cell_type": "markdown",
      "source": [
        "#5\n",
        "\n",
        "- Let's find the least useful feature using the feature elimination technique.\n",
        "- Train a model with all these features (using the same parameters as in Q4).\n",
        "- Now exclude each feature from this set and train a model without it. Record the accuracy for each model.\n",
        "- For each feature, calculate the difference between the original accuracy and the accuracy without the feature.\n",
        "- Which of following feature has the smallest difference?\n",
        " - total_rooms\n",
        " - total_bedrooms\n",
        " - population\n",
        " - households"
      ],
      "metadata": {
        "id": "Y7EkP3IVV9vS"
      }
    },
    {
      "cell_type": "code",
      "source": [
        "orig_score = accuracy\n",
        "\n",
        "features = ['ocean_proximity',\n",
        " 'longitude',\n",
        " 'latitude',\n",
        " 'housing_median_age',\n",
        " 'total_rooms',\n",
        " 'total_bedrooms',\n",
        " 'population',\n",
        " 'households',\n",
        " 'median_income',\n",
        " 'rooms_per_household',\n",
        " 'bedrooms_per_room',\n",
        " 'population_per_household']\n",
        "\n",
        "for c in features:\n",
        "    subset = features.copy()\n",
        "    subset.remove(c)\n",
        "\n",
        "    dict_train = df_train[subset].to_dict(orient='records')\n",
        "\n",
        "    dv = DictVectorizer(sparse=False)\n",
        "    dv.fit(dict_train)\n",
        "    X_train = dv.transform(dict_train)\n",
        "\n",
        "    model = LogisticRegression(solver=\"liblinear\", C=1.0, max_iter=1000, random_state=42)\n",
        "    model.fit(X_train, y_train)\n",
        "\n",
        "    dict_val = df_val.to_dict(orient='records')\n",
        "    X_val = dv.transform(dict_val)\n",
        "    y_pred = model.predict(X_val)\n",
        "\n",
        "    score = accuracy_score(y_pred, y_val)\n",
        "    print(c, orig_score - score, score)"
      ],
      "metadata": {
        "colab": {
          "base_uri": "https://localhost:8080/"
        },
        "id": "fdeKdxveV24M",
        "outputId": "74463bfb-1eed-4e50-ddef-f25aa16beb88"
      },
      "execution_count": 51,
      "outputs": [
        {
          "output_type": "stream",
          "name": "stdout",
          "text": [
            "ocean_proximity 0.019021317829457374 0.8209786821705426\n",
            "longitude 0.009089147286821642 0.8309108527131783\n",
            "latitude 0.00618217054263559 0.8338178294573644\n",
            "housing_median_age 0.009089147286821642 0.8309108527131783\n",
            "total_rooms 0.0015794573643410637 0.8384205426356589\n",
            "total_bedrooms 0.002306201550387521 0.8376937984496124\n",
            "population 0.013691860465116279 0.8263081395348837\n",
            "households 0.006666666666666599 0.8333333333333334\n",
            "median_income 0.05438953488372089 0.7856104651162791\n",
            "rooms_per_household 0.005697674418604581 0.8343023255813954\n",
            "bedrooms_per_room 0.004486434108527115 0.8355135658914729\n",
            "population_per_household 0.004486434108527115 0.8355135658914729\n"
          ]
        }
      ]
    },
    {
      "cell_type": "markdown",
      "source": [
        "Answer for Q5 is total_rooms"
      ],
      "metadata": {
        "id": "4JMpa9n8au0y"
      }
    },
    {
      "cell_type": "markdown",
      "source": [
        "#6\n",
        "\n",
        "- For this question, we'll see how to use a linear regression model from Scikit-Learn\n",
        "- We'll need to use the original column 'median_house_value'. Apply the logarithmic transformation to this column.\n",
        "- Fit the Ridge regression model (model = Ridge(alpha=a, solver=\"sag\", random_state=42)) on the training data.\n",
        "- This model has a parameter alpha. Let's try the following values: [0, 0.01, 0.1, 1, 10]\n",
        "- Which of these alphas leads to the best RMSE on the validation set? Round your RMSE scores to 3 decimal digits.\n",
        "- Select the smallest alpha."
      ],
      "metadata": {
        "id": "Xd1BCUghfsg9"
      }
    },
    {
      "cell_type": "code",
      "source": [
        "df['median_house_value'] = np.log1p(df['median_house_value'])"
      ],
      "metadata": {
        "id": "pLCThem_Yyl2"
      },
      "execution_count": 52,
      "outputs": []
    },
    {
      "cell_type": "code",
      "source": [
        "df_full_train, df_test = train_test_split(df, test_size=0.2, random_state=42)\n",
        "df_train, df_val = train_test_split(df_full_train, test_size=0.25, random_state=42)\n",
        "\n",
        "df_train = df_train.reset_index(drop=True)\n",
        "df_val = df_val.reset_index(drop=True)\n",
        "df_test = df_test.reset_index(drop=True)\n",
        "\n",
        "y_train = df_train.median_house_value.values\n",
        "y_val = df_val.median_house_value.values\n",
        "y_test = df_test.median_house_value.values\n",
        "\n",
        "del df_train['median_house_value']\n",
        "del df_val['median_house_value']\n",
        "del df_test['median_house_value']"
      ],
      "metadata": {
        "id": "YGQyZ0BFh3ee"
      },
      "execution_count": 55,
      "outputs": []
    },
    {
      "cell_type": "code",
      "source": [
        "dict_train = df_train.to_dict(orient='records')\n",
        "\n",
        "dv = DictVectorizer(sparse=False)\n",
        "dv.fit(dict_train)\n",
        "X_train = dv.transform(dict_train)\n",
        "\n",
        "dict_val = df_val.to_dict(orient='records')\n",
        "X_val = dv.transform(dict_val)"
      ],
      "metadata": {
        "id": "oy3HH193iLwH"
      },
      "execution_count": 56,
      "outputs": []
    },
    {
      "cell_type": "code",
      "source": [
        "for a in [0, 0.01, 0.1, 1, 10]:\n",
        "    model = Ridge(alpha=a, solver=\"sag\", random_state=42)\n",
        "    model.fit(X_train, y_train)\n",
        "\n",
        "    y_pred = model.predict(X_val)\n",
        "\n",
        "    score = np.sqrt(mean_squared_error(y_pred, y_val))\n",
        "    print(a, np.round(score, 3))"
      ],
      "metadata": {
        "colab": {
          "base_uri": "https://localhost:8080/"
        },
        "id": "s7JRFwiMiutn",
        "outputId": "76f4648f-d3ed-418a-f3f5-e50aa9494423"
      },
      "execution_count": 57,
      "outputs": [
        {
          "output_type": "stream",
          "name": "stdout",
          "text": [
            "0 0.524\n",
            "0.01 0.524\n",
            "0.1 0.524\n",
            "1 0.524\n",
            "10 0.524\n"
          ]
        }
      ]
    },
    {
      "cell_type": "markdown",
      "source": [
        "Answer for Q6 is 0."
      ],
      "metadata": {
        "id": "gEFysnO6jqwP"
      }
    },
    {
      "cell_type": "code",
      "source": [],
      "metadata": {
        "id": "9UV5OhBNjilx"
      },
      "execution_count": null,
      "outputs": []
    }
  ]
}